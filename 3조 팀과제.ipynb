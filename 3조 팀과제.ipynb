{
 "cells": [
  {
   "cell_type": "code",
   "execution_count": 4,
   "metadata": {},
   "outputs": [],
   "source": [
    "import pandas as pd\n",
    "import os\n",
    "import numpy as np\n",
    "import datetime\n",
    "\n",
    "%matplotlib inline\n",
    "import matplotlib\n",
    "import matplotlib.pyplot as plt\n",
    "import seaborn as sns\n",
    "\n",
    "\n",
    "# 한글출력\n",
    "matplotlib.rc('font', family='Malgun Gothic')  # Windows\n",
    "plt.rcParams['axes.unicode_minus'] = False"
   ]
  },
  {
   "cell_type": "code",
   "execution_count": 6,
   "metadata": {},
   "outputs": [],
   "source": [
    "#데이터 불러오기\n",
    "input_fd = open('C:/Temp/KRvideos.csv',errors = 'backslashreplace',encoding='utf-8')\n",
    "KRvideo = pd.read_csv(input_fd)\n",
    "\n",
    "input_fd = open('C:/Temp/JPvideos.csv', errors = 'backslashreplace',encoding='utf-8')\n",
    "JPvideo = pd.read_csv(input_fd)"
   ]
  },
  {
   "cell_type": "code",
   "execution_count": 7,
   "metadata": {},
   "outputs": [
    {
     "data": {
      "text/html": [
       "<div>\n",
       "<style scoped>\n",
       "    .dataframe tbody tr th:only-of-type {\n",
       "        vertical-align: middle;\n",
       "    }\n",
       "\n",
       "    .dataframe tbody tr th {\n",
       "        vertical-align: top;\n",
       "    }\n",
       "\n",
       "    .dataframe thead th {\n",
       "        text-align: right;\n",
       "    }\n",
       "</style>\n",
       "<table border=\"1\" class=\"dataframe\">\n",
       "  <thead>\n",
       "    <tr style=\"text-align: right;\">\n",
       "      <th></th>\n",
       "      <th>video_id</th>\n",
       "      <th>trending_date</th>\n",
       "      <th>title</th>\n",
       "      <th>channel_title</th>\n",
       "      <th>category_id</th>\n",
       "      <th>publish_time</th>\n",
       "      <th>tags</th>\n",
       "      <th>views</th>\n",
       "      <th>likes</th>\n",
       "      <th>dislikes</th>\n",
       "      <th>comment_count</th>\n",
       "      <th>thumbnail_link</th>\n",
       "      <th>comments_disabled</th>\n",
       "      <th>ratings_disabled</th>\n",
       "      <th>video_error_or_removed</th>\n",
       "      <th>description</th>\n",
       "    </tr>\n",
       "  </thead>\n",
       "  <tbody>\n",
       "    <tr>\n",
       "      <th>0</th>\n",
       "      <td>RxGQe4EeEpA</td>\n",
       "      <td>17.14.11</td>\n",
       "      <td>좋아 by 민서_윤종신_좋니 답가</td>\n",
       "      <td>라푸마코리아</td>\n",
       "      <td>22</td>\n",
       "      <td>2017-11-13T07:07:36.000Z</td>\n",
       "      <td>라푸마|\"윤종신\"|\"좋니\"|\"좋아\"|\"샬레\"|\"민서\"</td>\n",
       "      <td>156130</td>\n",
       "      <td>1422</td>\n",
       "      <td>40</td>\n",
       "      <td>272</td>\n",
       "      <td>https://i.ytimg.com/vi/RxGQe4EeEpA/default.jpg</td>\n",
       "      <td>False</td>\n",
       "      <td>False</td>\n",
       "      <td>False</td>\n",
       "      <td>윤종신 '좋니'의 답가 '좋아' 최초 공개!\\n그 여자의 이야기를 지금 만나보세요....</td>\n",
       "    </tr>\n",
       "    <tr>\n",
       "      <th>1</th>\n",
       "      <td>hH7wVE8OlQ0</td>\n",
       "      <td>17.14.11</td>\n",
       "      <td>JSA 귀순 북한군 총격 부상</td>\n",
       "      <td>Edward</td>\n",
       "      <td>25</td>\n",
       "      <td>2017-11-13T10:59:16.000Z</td>\n",
       "      <td>JSA|\"귀순\"|\"북한군\"|\"총격\"|\"부상\"|\"JSA 귀순 북한군 총격 부상\"</td>\n",
       "      <td>76533</td>\n",
       "      <td>211</td>\n",
       "      <td>28</td>\n",
       "      <td>113</td>\n",
       "      <td>https://i.ytimg.com/vi/hH7wVE8OlQ0/default.jpg</td>\n",
       "      <td>False</td>\n",
       "      <td>False</td>\n",
       "      <td>False</td>\n",
       "      <td>[채널A단독]北 병사 현재 '의식불명'… 혈압 떨어지는 중 \\n[채널A단독]우리측 ...</td>\n",
       "    </tr>\n",
       "    <tr>\n",
       "      <th>2</th>\n",
       "      <td>9V8bnWUmE9U</td>\n",
       "      <td>17.14.11</td>\n",
       "      <td>나몰라패밀리 운동화 영상 2탄 (빼빼로데이버젼)</td>\n",
       "      <td>나몰라패밀리 핫쇼</td>\n",
       "      <td>22</td>\n",
       "      <td>2017-11-11T07:16:08.000Z</td>\n",
       "      <td>아디다스|\"빼빼로\"|\"핫쇼\"|\"나몰라패밀리\"|\"대학로\"|\"공연\"</td>\n",
       "      <td>421409</td>\n",
       "      <td>5112</td>\n",
       "      <td>166</td>\n",
       "      <td>459</td>\n",
       "      <td>https://i.ytimg.com/vi/9V8bnWUmE9U/default.jpg</td>\n",
       "      <td>False</td>\n",
       "      <td>False</td>\n",
       "      <td>False</td>\n",
       "      <td>퍼가실때 꼭 출처 부탁드려요</td>\n",
       "    </tr>\n",
       "    <tr>\n",
       "      <th>3</th>\n",
       "      <td>0_8py-t5R80</td>\n",
       "      <td>17.14.11</td>\n",
       "      <td>이명박 출국 현장, 놓치면 안되는 장면</td>\n",
       "      <td>미디어몽구</td>\n",
       "      <td>25</td>\n",
       "      <td>2017-11-12T11:19:52.000Z</td>\n",
       "      <td>이명박|\"이명박 출국금지\"|\"이명박 출국현장\"|\"이명박 바레인\"|\"이명박 대통령\"|...</td>\n",
       "      <td>222850</td>\n",
       "      <td>2093</td>\n",
       "      <td>173</td>\n",
       "      <td>1219</td>\n",
       "      <td>https://i.ytimg.com/vi/0_8py-t5R80/default.jpg</td>\n",
       "      <td>False</td>\n",
       "      <td>False</td>\n",
       "      <td>False</td>\n",
       "      <td>다스는 누구겁니까 듣고 난 후 표정</td>\n",
       "    </tr>\n",
       "    <tr>\n",
       "      <th>4</th>\n",
       "      <td>bk55RbxiQdI</td>\n",
       "      <td>17.14.11</td>\n",
       "      <td>김장겸은 물러갔다 MBC 노조 환호와 눈물</td>\n",
       "      <td>NocutV</td>\n",
       "      <td>25</td>\n",
       "      <td>2017-11-13T11:08:59.000Z</td>\n",
       "      <td>nocutV|\"노컷V\"|\"CBS\"|\"mbc\"|\"김장겸\"|\"해임\"|\"허일후\"</td>\n",
       "      <td>84466</td>\n",
       "      <td>1094</td>\n",
       "      <td>109</td>\n",
       "      <td>450</td>\n",
       "      <td>https://i.ytimg.com/vi/bk55RbxiQdI/default.jpg</td>\n",
       "      <td>False</td>\n",
       "      <td>False</td>\n",
       "      <td>False</td>\n",
       "      <td>김장겸 MBC 사장이 결국 해임됐다.\\n\\nMBC 대주주인 방송문화진흥회는 13일 ...</td>\n",
       "    </tr>\n",
       "  </tbody>\n",
       "</table>\n",
       "</div>"
      ],
      "text/plain": [
       "      video_id trending_date                       title channel_title  \\\n",
       "0  RxGQe4EeEpA      17.14.11          좋아 by 민서_윤종신_좋니 답가        라푸마코리아   \n",
       "1  hH7wVE8OlQ0      17.14.11            JSA 귀순 북한군 총격 부상        Edward   \n",
       "2  9V8bnWUmE9U      17.14.11  나몰라패밀리 운동화 영상 2탄 (빼빼로데이버젼)     나몰라패밀리 핫쇼   \n",
       "3  0_8py-t5R80      17.14.11  이명박 출국 현장, 놓치면 안되는 장면         미디어몽구   \n",
       "4  bk55RbxiQdI      17.14.11     김장겸은 물러갔다 MBC 노조 환호와 눈물        NocutV   \n",
       "\n",
       "   category_id              publish_time  \\\n",
       "0           22  2017-11-13T07:07:36.000Z   \n",
       "1           25  2017-11-13T10:59:16.000Z   \n",
       "2           22  2017-11-11T07:16:08.000Z   \n",
       "3           25  2017-11-12T11:19:52.000Z   \n",
       "4           25  2017-11-13T11:08:59.000Z   \n",
       "\n",
       "                                                tags   views  likes  dislikes  \\\n",
       "0                      라푸마|\"윤종신\"|\"좋니\"|\"좋아\"|\"샬레\"|\"민서\"  156130   1422        40   \n",
       "1        JSA|\"귀순\"|\"북한군\"|\"총격\"|\"부상\"|\"JSA 귀순 북한군 총격 부상\"   76533    211        28   \n",
       "2                아디다스|\"빼빼로\"|\"핫쇼\"|\"나몰라패밀리\"|\"대학로\"|\"공연\"  421409   5112       166   \n",
       "3  이명박|\"이명박 출국금지\"|\"이명박 출국현장\"|\"이명박 바레인\"|\"이명박 대통령\"|...  222850   2093       173   \n",
       "4          nocutV|\"노컷V\"|\"CBS\"|\"mbc\"|\"김장겸\"|\"해임\"|\"허일후\"   84466   1094       109   \n",
       "\n",
       "   comment_count                                  thumbnail_link  \\\n",
       "0            272  https://i.ytimg.com/vi/RxGQe4EeEpA/default.jpg   \n",
       "1            113  https://i.ytimg.com/vi/hH7wVE8OlQ0/default.jpg   \n",
       "2            459  https://i.ytimg.com/vi/9V8bnWUmE9U/default.jpg   \n",
       "3           1219  https://i.ytimg.com/vi/0_8py-t5R80/default.jpg   \n",
       "4            450  https://i.ytimg.com/vi/bk55RbxiQdI/default.jpg   \n",
       "\n",
       "   comments_disabled  ratings_disabled  video_error_or_removed  \\\n",
       "0              False             False                   False   \n",
       "1              False             False                   False   \n",
       "2              False             False                   False   \n",
       "3              False             False                   False   \n",
       "4              False             False                   False   \n",
       "\n",
       "                                         description  \n",
       "0  윤종신 '좋니'의 답가 '좋아' 최초 공개!\\n그 여자의 이야기를 지금 만나보세요....  \n",
       "1  [채널A단독]北 병사 현재 '의식불명'… 혈압 떨어지는 중 \\n[채널A단독]우리측 ...  \n",
       "2                                    퍼가실때 꼭 출처 부탁드려요  \n",
       "3                                다스는 누구겁니까 듣고 난 후 표정  \n",
       "4  김장겸 MBC 사장이 결국 해임됐다.\\n\\nMBC 대주주인 방송문화진흥회는 13일 ...  "
      ]
     },
     "execution_count": 7,
     "metadata": {},
     "output_type": "execute_result"
    }
   ],
   "source": [
    "KRvideo.head()"
   ]
  },
  {
   "cell_type": "code",
   "execution_count": 8,
   "metadata": {},
   "outputs": [
    {
     "data": {
      "text/html": [
       "<div>\n",
       "<style scoped>\n",
       "    .dataframe tbody tr th:only-of-type {\n",
       "        vertical-align: middle;\n",
       "    }\n",
       "\n",
       "    .dataframe tbody tr th {\n",
       "        vertical-align: top;\n",
       "    }\n",
       "\n",
       "    .dataframe thead th {\n",
       "        text-align: right;\n",
       "    }\n",
       "</style>\n",
       "<table border=\"1\" class=\"dataframe\">\n",
       "  <thead>\n",
       "    <tr style=\"text-align: right;\">\n",
       "      <th></th>\n",
       "      <th>video_id</th>\n",
       "      <th>trending_date</th>\n",
       "      <th>title</th>\n",
       "      <th>channel_title</th>\n",
       "      <th>category_id</th>\n",
       "      <th>publish_time</th>\n",
       "      <th>tags</th>\n",
       "      <th>views</th>\n",
       "      <th>likes</th>\n",
       "      <th>dislikes</th>\n",
       "      <th>comment_count</th>\n",
       "      <th>thumbnail_link</th>\n",
       "      <th>comments_disabled</th>\n",
       "      <th>ratings_disabled</th>\n",
       "      <th>video_error_or_removed</th>\n",
       "      <th>description</th>\n",
       "    </tr>\n",
       "  </thead>\n",
       "  <tbody>\n",
       "    <tr>\n",
       "      <th>0</th>\n",
       "      <td>5ugKfHgsmYw</td>\n",
       "      <td>18.07.02</td>\n",
       "      <td>陸自ヘリ、垂直に落下＝路上の車が撮影</td>\n",
       "      <td>時事通信映像センター</td>\n",
       "      <td>25</td>\n",
       "      <td>2018-02-06T03:04:37.000Z</td>\n",
       "      <td>事故|\"佐賀\"|\"佐賀県\"|\"ヘリコプター\"|\"ヘリ\"|\"自衛隊\"|\"墜落\"|\"落下\"|\"現...</td>\n",
       "      <td>188085</td>\n",
       "      <td>591</td>\n",
       "      <td>189</td>\n",
       "      <td>0</td>\n",
       "      <td>https://i.ytimg.com/vi/5ugKfHgsmYw/default.jpg</td>\n",
       "      <td>True</td>\n",
       "      <td>False</td>\n",
       "      <td>False</td>\n",
       "      <td>佐賀県神埼市の民家に墜落した陸上自衛隊のＡＨ６４Ｄ戦闘ヘリコプターが垂直に落下する様子を、近...</td>\n",
       "    </tr>\n",
       "    <tr>\n",
       "      <th>1</th>\n",
       "      <td>ohObafdd34Y</td>\n",
       "      <td>18.07.02</td>\n",
       "      <td>イッテQ お祭り男宮川×手越 巨大ブランコ②</td>\n",
       "      <td>神谷えりな Kamiya Erina 2</td>\n",
       "      <td>1</td>\n",
       "      <td>2018-02-06T04:01:56.000Z</td>\n",
       "      <td>[none]</td>\n",
       "      <td>90929</td>\n",
       "      <td>442</td>\n",
       "      <td>88</td>\n",
       "      <td>174</td>\n",
       "      <td>https://i.ytimg.com/vi/ohObafdd34Y/default.jpg</td>\n",
       "      <td>False</td>\n",
       "      <td>False</td>\n",
       "      <td>False</td>\n",
       "      <td>NaN</td>\n",
       "    </tr>\n",
       "    <tr>\n",
       "      <th>2</th>\n",
       "      <td>aBr2kKAHN6M</td>\n",
       "      <td>18.07.02</td>\n",
       "      <td>Live Views of Starman</td>\n",
       "      <td>SpaceX</td>\n",
       "      <td>28</td>\n",
       "      <td>2018-02-06T21:38:22.000Z</td>\n",
       "      <td>[none]</td>\n",
       "      <td>6408303</td>\n",
       "      <td>165892</td>\n",
       "      <td>2331</td>\n",
       "      <td>3006</td>\n",
       "      <td>https://i.ytimg.com/vi/aBr2kKAHN6M/default.jpg</td>\n",
       "      <td>False</td>\n",
       "      <td>False</td>\n",
       "      <td>False</td>\n",
       "      <td>NaN</td>\n",
       "    </tr>\n",
       "    <tr>\n",
       "      <th>3</th>\n",
       "      <td>5wNnwChvmsQ</td>\n",
       "      <td>18.07.02</td>\n",
       "      <td>東京ディズニーリゾートの元キャストが暴露した秘密5選</td>\n",
       "      <td>アシタノワダイ</td>\n",
       "      <td>25</td>\n",
       "      <td>2018-02-06T06:08:49.000Z</td>\n",
       "      <td>アシタノワダイ</td>\n",
       "      <td>96255</td>\n",
       "      <td>1165</td>\n",
       "      <td>277</td>\n",
       "      <td>545</td>\n",
       "      <td>https://i.ytimg.com/vi/5wNnwChvmsQ/default.jpg</td>\n",
       "      <td>False</td>\n",
       "      <td>False</td>\n",
       "      <td>False</td>\n",
       "      <td>東京ディズニーリゾートの元キャストが暴露した秘密5選\\n\\nかたまりクリエイトさま\\n【検証...</td>\n",
       "    </tr>\n",
       "    <tr>\n",
       "      <th>4</th>\n",
       "      <td>B7J47qFvdsk</td>\n",
       "      <td>18.07.02</td>\n",
       "      <td>榮倉奈々、衝撃の死んだふり！映画『家に帰ると妻が必ず死んだふりをしています。』特報</td>\n",
       "      <td>シネマトゥデイ</td>\n",
       "      <td>1</td>\n",
       "      <td>2018-02-06T02:30:00.000Z</td>\n",
       "      <td>[none]</td>\n",
       "      <td>108408</td>\n",
       "      <td>1336</td>\n",
       "      <td>74</td>\n",
       "      <td>201</td>\n",
       "      <td>https://i.ytimg.com/vi/B7J47qFvdsk/default.jpg</td>\n",
       "      <td>False</td>\n",
       "      <td>False</td>\n",
       "      <td>False</td>\n",
       "      <td>家に帰ってきたサラリーマンのじゅん（安田顕）は、玄関で血を出して倒れている妻ちえ（榮倉奈々）...</td>\n",
       "    </tr>\n",
       "  </tbody>\n",
       "</table>\n",
       "</div>"
      ],
      "text/plain": [
       "      video_id trending_date                                      title  \\\n",
       "0  5ugKfHgsmYw      18.07.02                         陸自ヘリ、垂直に落下＝路上の車が撮影   \n",
       "1  ohObafdd34Y      18.07.02                     イッテQ お祭り男宮川×手越 巨大ブランコ②   \n",
       "2  aBr2kKAHN6M      18.07.02                      Live Views of Starman   \n",
       "3  5wNnwChvmsQ      18.07.02                 東京ディズニーリゾートの元キャストが暴露した秘密5選   \n",
       "4  B7J47qFvdsk      18.07.02  榮倉奈々、衝撃の死んだふり！映画『家に帰ると妻が必ず死んだふりをしています。』特報   \n",
       "\n",
       "          channel_title  category_id              publish_time  \\\n",
       "0            時事通信映像センター           25  2018-02-06T03:04:37.000Z   \n",
       "1  神谷えりな Kamiya Erina 2            1  2018-02-06T04:01:56.000Z   \n",
       "2                SpaceX           28  2018-02-06T21:38:22.000Z   \n",
       "3               アシタノワダイ           25  2018-02-06T06:08:49.000Z   \n",
       "4               シネマトゥデイ            1  2018-02-06T02:30:00.000Z   \n",
       "\n",
       "                                                tags    views   likes  \\\n",
       "0  事故|\"佐賀\"|\"佐賀県\"|\"ヘリコプター\"|\"ヘリ\"|\"自衛隊\"|\"墜落\"|\"落下\"|\"現...   188085     591   \n",
       "1                                             [none]    90929     442   \n",
       "2                                             [none]  6408303  165892   \n",
       "3                                            アシタノワダイ    96255    1165   \n",
       "4                                             [none]   108408    1336   \n",
       "\n",
       "   dislikes  comment_count                                  thumbnail_link  \\\n",
       "0       189              0  https://i.ytimg.com/vi/5ugKfHgsmYw/default.jpg   \n",
       "1        88            174  https://i.ytimg.com/vi/ohObafdd34Y/default.jpg   \n",
       "2      2331           3006  https://i.ytimg.com/vi/aBr2kKAHN6M/default.jpg   \n",
       "3       277            545  https://i.ytimg.com/vi/5wNnwChvmsQ/default.jpg   \n",
       "4        74            201  https://i.ytimg.com/vi/B7J47qFvdsk/default.jpg   \n",
       "\n",
       "   comments_disabled  ratings_disabled  video_error_or_removed  \\\n",
       "0               True             False                   False   \n",
       "1              False             False                   False   \n",
       "2              False             False                   False   \n",
       "3              False             False                   False   \n",
       "4              False             False                   False   \n",
       "\n",
       "                                         description  \n",
       "0  佐賀県神埼市の民家に墜落した陸上自衛隊のＡＨ６４Ｄ戦闘ヘリコプターが垂直に落下する様子を、近...  \n",
       "1                                                NaN  \n",
       "2                                                NaN  \n",
       "3  東京ディズニーリゾートの元キャストが暴露した秘密5選\\n\\nかたまりクリエイトさま\\n【検証...  \n",
       "4  家に帰ってきたサラリーマンのじゅん（安田顕）は、玄関で血を出して倒れている妻ちえ（榮倉奈々）...  "
      ]
     },
     "execution_count": 8,
     "metadata": {},
     "output_type": "execute_result"
    }
   ],
   "source": [
    "JPvideo.head()"
   ]
  },
  {
   "cell_type": "code",
   "execution_count": 9,
   "metadata": {},
   "outputs": [
    {
     "name": "stdout",
     "output_type": "stream",
     "text": [
      "<class 'pandas.core.frame.DataFrame'>\n",
      "RangeIndex: 34567 entries, 0 to 34566\n",
      "Data columns (total 16 columns):\n",
      " #   Column                  Non-Null Count  Dtype \n",
      "---  ------                  --------------  ----- \n",
      " 0   video_id                34567 non-null  object\n",
      " 1   trending_date           34567 non-null  object\n",
      " 2   title                   34567 non-null  object\n",
      " 3   channel_title           34567 non-null  object\n",
      " 4   category_id             34567 non-null  int64 \n",
      " 5   publish_time            34567 non-null  object\n",
      " 6   tags                    34567 non-null  object\n",
      " 7   views                   34567 non-null  int64 \n",
      " 8   likes                   34567 non-null  int64 \n",
      " 9   dislikes                34567 non-null  int64 \n",
      " 10  comment_count           34567 non-null  int64 \n",
      " 11  thumbnail_link          34567 non-null  object\n",
      " 12  comments_disabled       34567 non-null  bool  \n",
      " 13  ratings_disabled        34567 non-null  bool  \n",
      " 14  video_error_or_removed  34567 non-null  bool  \n",
      " 15  description             31404 non-null  object\n",
      "dtypes: bool(3), int64(5), object(8)\n",
      "memory usage: 2.5+ MB\n"
     ]
    },
    {
     "data": {
      "text/plain": [
       "None"
      ]
     },
     "metadata": {},
     "output_type": "display_data"
    },
    {
     "data": {
      "text/html": [
       "<div>\n",
       "<style scoped>\n",
       "    .dataframe tbody tr th:only-of-type {\n",
       "        vertical-align: middle;\n",
       "    }\n",
       "\n",
       "    .dataframe tbody tr th {\n",
       "        vertical-align: top;\n",
       "    }\n",
       "\n",
       "    .dataframe thead th {\n",
       "        text-align: right;\n",
       "    }\n",
       "</style>\n",
       "<table border=\"1\" class=\"dataframe\">\n",
       "  <thead>\n",
       "    <tr style=\"text-align: right;\">\n",
       "      <th></th>\n",
       "      <th>category_id</th>\n",
       "      <th>views</th>\n",
       "      <th>likes</th>\n",
       "      <th>dislikes</th>\n",
       "      <th>comment_count</th>\n",
       "    </tr>\n",
       "  </thead>\n",
       "  <tbody>\n",
       "    <tr>\n",
       "      <th>count</th>\n",
       "      <td>34567.000000</td>\n",
       "      <td>3.456700e+04</td>\n",
       "      <td>3.456700e+04</td>\n",
       "      <td>3.456700e+04</td>\n",
       "      <td>3.456700e+04</td>\n",
       "    </tr>\n",
       "    <tr>\n",
       "      <th>mean</th>\n",
       "      <td>21.137675</td>\n",
       "      <td>4.249473e+05</td>\n",
       "      <td>1.218642e+04</td>\n",
       "      <td>5.390980e+02</td>\n",
       "      <td>2.025383e+03</td>\n",
       "    </tr>\n",
       "    <tr>\n",
       "      <th>std</th>\n",
       "      <td>6.675455</td>\n",
       "      <td>2.430637e+06</td>\n",
       "      <td>1.170531e+05</td>\n",
       "      <td>1.370852e+04</td>\n",
       "      <td>2.150677e+04</td>\n",
       "    </tr>\n",
       "    <tr>\n",
       "      <th>min</th>\n",
       "      <td>1.000000</td>\n",
       "      <td>2.050000e+03</td>\n",
       "      <td>0.000000e+00</td>\n",
       "      <td>0.000000e+00</td>\n",
       "      <td>0.000000e+00</td>\n",
       "    </tr>\n",
       "    <tr>\n",
       "      <th>25%</th>\n",
       "      <td>22.000000</td>\n",
       "      <td>4.776850e+04</td>\n",
       "      <td>4.120000e+02</td>\n",
       "      <td>2.100000e+01</td>\n",
       "      <td>1.050000e+02</td>\n",
       "    </tr>\n",
       "    <tr>\n",
       "      <th>50%</th>\n",
       "      <td>24.000000</td>\n",
       "      <td>1.114960e+05</td>\n",
       "      <td>1.389000e+03</td>\n",
       "      <td>6.500000e+01</td>\n",
       "      <td>3.450000e+02</td>\n",
       "    </tr>\n",
       "    <tr>\n",
       "      <th>75%</th>\n",
       "      <td>25.000000</td>\n",
       "      <td>2.788665e+05</td>\n",
       "      <td>3.704500e+03</td>\n",
       "      <td>1.750000e+02</td>\n",
       "      <td>9.290000e+02</td>\n",
       "    </tr>\n",
       "    <tr>\n",
       "      <th>max</th>\n",
       "      <td>44.000000</td>\n",
       "      <td>1.138762e+08</td>\n",
       "      <td>5.150839e+06</td>\n",
       "      <td>1.470388e+06</td>\n",
       "      <td>1.142274e+06</td>\n",
       "    </tr>\n",
       "  </tbody>\n",
       "</table>\n",
       "</div>"
      ],
      "text/plain": [
       "        category_id         views         likes      dislikes  comment_count\n",
       "count  34567.000000  3.456700e+04  3.456700e+04  3.456700e+04   3.456700e+04\n",
       "mean      21.137675  4.249473e+05  1.218642e+04  5.390980e+02   2.025383e+03\n",
       "std        6.675455  2.430637e+06  1.170531e+05  1.370852e+04   2.150677e+04\n",
       "min        1.000000  2.050000e+03  0.000000e+00  0.000000e+00   0.000000e+00\n",
       "25%       22.000000  4.776850e+04  4.120000e+02  2.100000e+01   1.050000e+02\n",
       "50%       24.000000  1.114960e+05  1.389000e+03  6.500000e+01   3.450000e+02\n",
       "75%       25.000000  2.788665e+05  3.704500e+03  1.750000e+02   9.290000e+02\n",
       "max       44.000000  1.138762e+08  5.150839e+06  1.470388e+06   1.142274e+06"
      ]
     },
     "metadata": {},
     "output_type": "display_data"
    }
   ],
   "source": [
    "display(KRvideo.info())\n",
    "display(KRvideo.describe())"
   ]
  },
  {
   "cell_type": "code",
   "execution_count": 10,
   "metadata": {},
   "outputs": [
    {
     "name": "stdout",
     "output_type": "stream",
     "text": [
      "<class 'pandas.core.frame.DataFrame'>\n",
      "RangeIndex: 20523 entries, 0 to 20522\n",
      "Data columns (total 16 columns):\n",
      " #   Column                  Non-Null Count  Dtype \n",
      "---  ------                  --------------  ----- \n",
      " 0   video_id                20523 non-null  object\n",
      " 1   trending_date           20523 non-null  object\n",
      " 2   title                   20523 non-null  object\n",
      " 3   channel_title           20523 non-null  object\n",
      " 4   category_id             20523 non-null  int64 \n",
      " 5   publish_time            20523 non-null  object\n",
      " 6   tags                    20523 non-null  object\n",
      " 7   views                   20523 non-null  int64 \n",
      " 8   likes                   20523 non-null  int64 \n",
      " 9   dislikes                20523 non-null  int64 \n",
      " 10  comment_count           20523 non-null  int64 \n",
      " 11  thumbnail_link          20523 non-null  object\n",
      " 12  comments_disabled       20523 non-null  bool  \n",
      " 13  ratings_disabled        20523 non-null  bool  \n",
      " 14  video_error_or_removed  20523 non-null  bool  \n",
      " 15  description             18399 non-null  object\n",
      "dtypes: bool(3), int64(5), object(8)\n",
      "memory usage: 1.5+ MB\n"
     ]
    },
    {
     "data": {
      "text/plain": [
       "None"
      ]
     },
     "metadata": {},
     "output_type": "display_data"
    },
    {
     "data": {
      "text/html": [
       "<div>\n",
       "<style scoped>\n",
       "    .dataframe tbody tr th:only-of-type {\n",
       "        vertical-align: middle;\n",
       "    }\n",
       "\n",
       "    .dataframe tbody tr th {\n",
       "        vertical-align: top;\n",
       "    }\n",
       "\n",
       "    .dataframe thead th {\n",
       "        text-align: right;\n",
       "    }\n",
       "</style>\n",
       "<table border=\"1\" class=\"dataframe\">\n",
       "  <thead>\n",
       "    <tr style=\"text-align: right;\">\n",
       "      <th></th>\n",
       "      <th>category_id</th>\n",
       "      <th>views</th>\n",
       "      <th>likes</th>\n",
       "      <th>dislikes</th>\n",
       "      <th>comment_count</th>\n",
       "    </tr>\n",
       "  </thead>\n",
       "  <tbody>\n",
       "    <tr>\n",
       "      <th>count</th>\n",
       "      <td>20523.000000</td>\n",
       "      <td>2.052300e+04</td>\n",
       "      <td>2.052300e+04</td>\n",
       "      <td>20523.000000</td>\n",
       "      <td>20523.000000</td>\n",
       "    </tr>\n",
       "    <tr>\n",
       "      <th>mean</th>\n",
       "      <td>19.807533</td>\n",
       "      <td>2.620215e+05</td>\n",
       "      <td>8.059587e+03</td>\n",
       "      <td>366.823613</td>\n",
       "      <td>1196.077864</td>\n",
       "    </tr>\n",
       "    <tr>\n",
       "      <th>std</th>\n",
       "      <td>6.655895</td>\n",
       "      <td>1.294938e+06</td>\n",
       "      <td>8.384837e+04</td>\n",
       "      <td>2658.598540</td>\n",
       "      <td>14943.608305</td>\n",
       "    </tr>\n",
       "    <tr>\n",
       "      <th>min</th>\n",
       "      <td>1.000000</td>\n",
       "      <td>7.980000e+02</td>\n",
       "      <td>0.000000e+00</td>\n",
       "      <td>0.000000</td>\n",
       "      <td>0.000000</td>\n",
       "    </tr>\n",
       "    <tr>\n",
       "      <th>25%</th>\n",
       "      <td>17.000000</td>\n",
       "      <td>1.710000e+04</td>\n",
       "      <td>1.210000e+02</td>\n",
       "      <td>9.000000</td>\n",
       "      <td>19.000000</td>\n",
       "    </tr>\n",
       "    <tr>\n",
       "      <th>50%</th>\n",
       "      <td>22.000000</td>\n",
       "      <td>6.408400e+04</td>\n",
       "      <td>6.480000e+02</td>\n",
       "      <td>43.000000</td>\n",
       "      <td>133.000000</td>\n",
       "    </tr>\n",
       "    <tr>\n",
       "      <th>75%</th>\n",
       "      <td>24.000000</td>\n",
       "      <td>1.833670e+05</td>\n",
       "      <td>2.303000e+03</td>\n",
       "      <td>178.000000</td>\n",
       "      <td>488.000000</td>\n",
       "    </tr>\n",
       "    <tr>\n",
       "      <th>max</th>\n",
       "      <td>29.000000</td>\n",
       "      <td>6.279639e+07</td>\n",
       "      <td>4.470923e+06</td>\n",
       "      <td>119053.000000</td>\n",
       "      <td>905925.000000</td>\n",
       "    </tr>\n",
       "  </tbody>\n",
       "</table>\n",
       "</div>"
      ],
      "text/plain": [
       "        category_id         views         likes       dislikes  comment_count\n",
       "count  20523.000000  2.052300e+04  2.052300e+04   20523.000000   20523.000000\n",
       "mean      19.807533  2.620215e+05  8.059587e+03     366.823613    1196.077864\n",
       "std        6.655895  1.294938e+06  8.384837e+04    2658.598540   14943.608305\n",
       "min        1.000000  7.980000e+02  0.000000e+00       0.000000       0.000000\n",
       "25%       17.000000  1.710000e+04  1.210000e+02       9.000000      19.000000\n",
       "50%       22.000000  6.408400e+04  6.480000e+02      43.000000     133.000000\n",
       "75%       24.000000  1.833670e+05  2.303000e+03     178.000000     488.000000\n",
       "max       29.000000  6.279639e+07  4.470923e+06  119053.000000  905925.000000"
      ]
     },
     "metadata": {},
     "output_type": "display_data"
    }
   ],
   "source": [
    "display(JPvideo.info())\n",
    "display(JPvideo.describe())"
   ]
  },
  {
   "cell_type": "markdown",
   "metadata": {},
   "source": [
    "1) 두 나라의 동영상 조회수와 댓글수 관계 확인"
   ]
  },
  {
   "cell_type": "code",
   "execution_count": 11,
   "metadata": {},
   "outputs": [
    {
     "data": {
      "image/png": "[encoded data removed]",
      "text/plain": [
       "<Figure size 432x288 with 1 Axes>"
      ]
     },
     "metadata": {
      "needs_background": "light"
     },
     "output_type": "display_data"
    }
   ],
   "source": [
    "fig, ax = plt.subplots()\n",
    "ax = KRvideo.plot.scatter(x='views', y='comment_count', ax=ax)"
   ]
  },
  {
   "cell_type": "code",
   "execution_count": 12,
   "metadata": {},
   "outputs": [
    {
     "data": {
      "image/png": "[encoded data removed]",
      "text/plain": [
       "<Figure size 432x288 with 1 Axes>"
      ]
     },
     "metadata": {
      "needs_background": "light"
     },
     "output_type": "display_data"
    }
   ],
   "source": [
    "fig, ax = plt.subplots()\n",
    "ax = JPvideo.plot.scatter(x='views', y='comment_count', ax=ax)"
   ]
  },
  {
   "cell_type": "code",
   "execution_count": 13,
   "metadata": {},
   "outputs": [
    {
     "data": {
      "image/png": "[encoded data removed]",
      "text/plain": [
       "<Figure size 504x360 with 1 Axes>"
      ]
     },
     "metadata": {
      "needs_background": "light"
     },
     "output_type": "display_data"
    }
   ],
   "source": [
    "fig, ax = plt.subplots(figsize=(7,5))\n",
    "ax = KRvideo.plot.scatter(x='views', y='comment_count', ax=ax, label='Korea', c='orange')\n",
    "ax = JPvideo.plot.scatter(x='views', y='comment_count', ax=ax, label='Japan')"
   ]
  },
  {
   "cell_type": "markdown",
   "metadata": {},
   "source": [
    "전반적으로 한국이 일본보다 동영상 조회수가 높고, 두 나라 모두 조회수가 높을수록 댓글수가 많다고 볼 수 있다."
   ]
  },
  {
   "cell_type": "markdown",
   "metadata": {},
   "source": [
    "2) 어느 시간대에 많이 올리는지 확인"
   ]
  },
  {
   "cell_type": "markdown",
   "metadata": {},
   "source": [
    "(1) 한국의 경우"
   ]
  },
  {
   "cell_type": "code",
   "execution_count": 14,
   "metadata": {},
   "outputs": [],
   "source": [
    "KRvideo['publish_point'] = pd.to_datetime(KRvideo['publish_time'])"
   ]
  },
  {
   "cell_type": "code",
   "execution_count": 15,
   "metadata": {},
   "outputs": [
    {
     "data": {
      "text/plain": [
       "0       2017-11-13 07:07:36+00:00\n",
       "1       2017-11-13 10:59:16+00:00\n",
       "2       2017-11-11 07:16:08+00:00\n",
       "3       2017-11-12 11:19:52+00:00\n",
       "4       2017-11-13 11:08:59+00:00\n",
       "                   ...           \n",
       "34562   2018-06-10 23:00:01+00:00\n",
       "34563   2018-06-12 07:00:06+00:00\n",
       "34564   2018-06-12 13:17:29+00:00\n",
       "34565   2018-06-11 11:57:20+00:00\n",
       "34566   2018-06-10 20:00:01+00:00\n",
       "Name: publish_point, Length: 34567, dtype: datetime64[ns, UTC]"
      ]
     },
     "execution_count": 15,
     "metadata": {},
     "output_type": "execute_result"
    }
   ],
   "source": [
    "KRvideo['publish_point']"
   ]
  },
  {
   "cell_type": "code",
   "execution_count": 16,
   "metadata": {},
   "outputs": [],
   "source": [
    "KRvideo['hour'] = KRvideo['publish_point'].dt.hour"
   ]
  },
  {
   "cell_type": "code",
   "execution_count": 17,
   "metadata": {},
   "outputs": [
    {
     "data": {
      "image/png": "[encoded data removed]",
      "text/plain": [
       "<Figure size 432x288 with 1 Axes>"
      ]
     },
     "metadata": {
      "needs_background": "light"
     },
     "output_type": "display_data"
    }
   ],
   "source": [
    "ax = sns.countplot('hour', data=KRvideo)"
   ]
  },
  {
   "cell_type": "markdown",
   "metadata": {},
   "source": [
    "(2) 일본의 경우"
   ]
  },
  {
   "cell_type": "code",
   "execution_count": 18,
   "metadata": {},
   "outputs": [],
   "source": [
    "JPvideo['publish_point'] = pd.to_datetime(JPvideo['publish_time'])"
   ]
  },
  {
   "cell_type": "code",
   "execution_count": 19,
   "metadata": {},
   "outputs": [
    {
     "data": {
      "text/plain": [
       "0       2018-02-06 03:04:37+00:00\n",
       "1       2018-02-06 04:01:56+00:00\n",
       "2       2018-02-06 21:38:22+00:00\n",
       "3       2018-02-06 06:08:49+00:00\n",
       "4       2018-02-06 02:30:00+00:00\n",
       "                   ...           \n",
       "20518   2018-06-13 17:00:01+00:00\n",
       "20519   2018-06-13 19:10:31+00:00\n",
       "20520   2018-06-13 14:00:02+00:00\n",
       "20521   2018-06-13 13:56:47+00:00\n",
       "20522   2018-06-13 09:00:00+00:00\n",
       "Name: publish_point, Length: 20523, dtype: datetime64[ns, UTC]"
      ]
     },
     "execution_count": 19,
     "metadata": {},
     "output_type": "execute_result"
    }
   ],
   "source": [
    "JPvideo['publish_point']"
   ]
  },
  {
   "cell_type": "code",
   "execution_count": 20,
   "metadata": {},
   "outputs": [],
   "source": [
    "JPvideo['hour'] = JPvideo['publish_point'].dt.hour"
   ]
  },
  {
   "cell_type": "code",
   "execution_count": 21,
   "metadata": {},
   "outputs": [
    {
     "data": {
      "image/png": "[encoded data removed]",
      "text/plain": [
       "<Figure size 432x288 with 1 Axes>"
      ]
     },
     "metadata": {
      "needs_background": "light"
     },
     "output_type": "display_data"
    }
   ],
   "source": [
    "ax = sns.countplot('hour', data=JPvideo)"
   ]
  },
  {
   "cell_type": "code",
   "execution_count": 22,
   "metadata": {},
   "outputs": [
    {
     "data": {
      "image/png": "[encoded data removed]",
      "text/plain": [
       "<Figure size 504x360 with 1 Axes>"
      ]
     },
     "metadata": {
      "needs_background": "light"
     },
     "output_type": "display_data"
    }
   ],
   "source": [
    "ax = plt.subplots(figsize=(7,5))\n",
    "ax = sns.distplot(KRvideo['hour'], hist=False, label='Korea')\n",
    "ax = sns.distplot(JPvideo['hour'], hist=False, label='Japan')"
   ]
  },
  {
   "cell_type": "markdown",
   "metadata": {},
   "source": [
    "두 나라에서 동영상이 등록되는 시간대는 비슷하다고 볼 수 있다."
   ]
  },
  {
   "cell_type": "code",
   "execution_count": 23,
   "metadata": {},
   "outputs": [
    {
     "data": {
      "text/plain": [
       "(34567, 18)"
      ]
     },
     "execution_count": 23,
     "metadata": {},
     "output_type": "execute_result"
    }
   ],
   "source": [
    "KRvideo.shape"
   ]
  },
  {
   "cell_type": "code",
   "execution_count": 24,
   "metadata": {},
   "outputs": [
    {
     "data": {
      "text/plain": [
       "(20523, 18)"
      ]
     },
     "execution_count": 24,
     "metadata": {},
     "output_type": "execute_result"
    }
   ],
   "source": [
    "JPvideo.shape"
   ]
  },
  {
   "cell_type": "markdown",
   "metadata": {},
   "source": [
    "3) 카테고리별 좋아요/싫어요 비율 분포 알아보기"
   ]
  },
  {
   "cell_type": "code",
   "execution_count": 25,
   "metadata": {},
   "outputs": [
    {
     "data": {
      "text/plain": [
       "{'1': 'Film & Animation',\n",
       " '2': 'Autos & Vehicles',\n",
       " '10': 'Music',\n",
       " '15': 'Pets & Animals',\n",
       " '17': 'Sports',\n",
       " '18': 'Short Movies',\n",
       " '19': 'Travel & Events',\n",
       " '20': 'Gaming',\n",
       " '21': 'Videoblogging',\n",
       " '22': 'People & Blogs',\n",
       " '23': 'Comedy',\n",
       " '24': 'Entertainment',\n",
       " '25': 'News & Politics',\n",
       " '26': 'Howto & Style',\n",
       " '27': 'Education',\n",
       " '28': 'Science & Technology',\n",
       " '30': 'Movies',\n",
       " '31': 'Anime/Animation',\n",
       " '32': 'Action/Adventure',\n",
       " '33': 'Classics',\n",
       " '34': 'Comedy',\n",
       " '35': 'Documentary',\n",
       " '36': 'Drama',\n",
       " '37': 'Family',\n",
       " '38': 'Foreign',\n",
       " '39': 'Horror',\n",
       " '40': 'Sci-Fi/Fantasy',\n",
       " '41': 'Thriller',\n",
       " '42': 'Shorts',\n",
       " '43': 'Shows',\n",
       " '44': 'Trailers'}"
      ]
     },
     "execution_count": 25,
     "metadata": {},
     "output_type": "execute_result"
    }
   ],
   "source": [
    "import json\n",
    "\n",
    "pd.read_json('C:/Temp/KR_category_id.json')\n",
    "\n",
    "id_to_category = {}\n",
    "\n",
    "with open('C:/Temp/KR_category_id.json', 'r') as f:\n",
    "    data = json.load(f)\n",
    "    for category in data['items']:\n",
    "        id_to_category[category['id']] = category['snippet']['title']\n",
    "\n",
    "        \n",
    "id_to_category"
   ]
  },
  {
   "cell_type": "code",
   "execution_count": 54,
   "metadata": {},
   "outputs": [
    {
     "data": {
      "text/plain": [
       "{'1': 'Film & Animation',\n",
       " '2': 'Autos & Vehicles',\n",
       " '10': 'Music',\n",
       " '15': 'Pets & Animals',\n",
       " '17': 'Sports',\n",
       " '18': 'Short Movies',\n",
       " '19': 'Travel & Events',\n",
       " '20': 'Gaming',\n",
       " '21': 'Videoblogging',\n",
       " '22': 'People & Blogs',\n",
       " '23': 'Comedy',\n",
       " '24': 'Entertainment',\n",
       " '25': 'News & Politics',\n",
       " '26': 'Howto & Style',\n",
       " '27': 'Education',\n",
       " '28': 'Science & Technology',\n",
       " '30': 'Movies',\n",
       " '31': 'Anime/Animation',\n",
       " '32': 'Action/Adventure',\n",
       " '33': 'Classics',\n",
       " '34': 'Comedy',\n",
       " '35': 'Documentary',\n",
       " '36': 'Drama',\n",
       " '37': 'Family',\n",
       " '38': 'Foreign',\n",
       " '39': 'Horror',\n",
       " '40': 'Sci-Fi/Fantasy',\n",
       " '41': 'Thriller',\n",
       " '42': 'Shorts',\n",
       " '43': 'Shows',\n",
       " '44': 'Trailers'}"
      ]
     },
     "execution_count": 54,
     "metadata": {},
     "output_type": "execute_result"
    }
   ],
   "source": [
    "pd.read_json('C:/Temp/JP_category_id.json')\n",
    "\n",
    "id_to_category = {}\n",
    "\n",
    "with open('C:/Temp/JP_category_id.json', 'r') as f:\n",
    "    data = json.load(f)\n",
    "    for category in data['items']:\n",
    "        id_to_category[category['id']] = category['snippet']['title']\n",
    "\n",
    "        \n",
    "id_to_category"
   ]
  },
  {
   "cell_type": "code",
   "execution_count": 27,
   "metadata": {},
   "outputs": [],
   "source": [
    "KRvideo2 = KRvideo.groupby([KRvideos.category_id], as_index = False).mean()"
   ]
  },
  {
   "cell_type": "code",
   "execution_count": 29,
   "metadata": {},
   "outputs": [
    {
     "data": {
      "text/html": [
       "<div>\n",
       "<style scoped>\n",
       "    .dataframe tbody tr th:only-of-type {\n",
       "        vertical-align: middle;\n",
       "    }\n",
       "\n",
       "    .dataframe tbody tr th {\n",
       "        vertical-align: top;\n",
       "    }\n",
       "\n",
       "    .dataframe thead th {\n",
       "        text-align: right;\n",
       "    }\n",
       "</style>\n",
       "<table border=\"1\" class=\"dataframe\">\n",
       "  <thead>\n",
       "    <tr style=\"text-align: right;\">\n",
       "      <th></th>\n",
       "      <th>category_id</th>\n",
       "      <th>views</th>\n",
       "      <th>likes</th>\n",
       "      <th>dislikes</th>\n",
       "      <th>comment_count</th>\n",
       "      <th>comments_disabled</th>\n",
       "      <th>ratings_disabled</th>\n",
       "      <th>video_error_or_removed</th>\n",
       "      <th>hour</th>\n",
       "      <th>Rate</th>\n",
       "    </tr>\n",
       "  </thead>\n",
       "  <tbody>\n",
       "    <tr>\n",
       "      <th>0</th>\n",
       "      <td>1.0</td>\n",
       "      <td>5.440154e+05</td>\n",
       "      <td>7496.784545</td>\n",
       "      <td>286.201364</td>\n",
       "      <td>1244.287727</td>\n",
       "      <td>0.008182</td>\n",
       "      <td>0.010455</td>\n",
       "      <td>0.002727</td>\n",
       "      <td>8.455000</td>\n",
       "      <td>26.194091</td>\n",
       "    </tr>\n",
       "    <tr>\n",
       "      <th>1</th>\n",
       "      <td>2.0</td>\n",
       "      <td>1.198672e+05</td>\n",
       "      <td>1267.125000</td>\n",
       "      <td>108.941667</td>\n",
       "      <td>337.691667</td>\n",
       "      <td>0.000000</td>\n",
       "      <td>0.000000</td>\n",
       "      <td>0.000000</td>\n",
       "      <td>10.650000</td>\n",
       "      <td>11.631225</td>\n",
       "    </tr>\n",
       "    <tr>\n",
       "      <th>2</th>\n",
       "      <td>10.0</td>\n",
       "      <td>2.080543e+06</td>\n",
       "      <td>131638.056986</td>\n",
       "      <td>3458.475068</td>\n",
       "      <td>16739.951233</td>\n",
       "      <td>0.002740</td>\n",
       "      <td>0.021370</td>\n",
       "      <td>0.012603</td>\n",
       "      <td>10.443288</td>\n",
       "      <td>38.062457</td>\n",
       "    </tr>\n",
       "    <tr>\n",
       "      <th>3</th>\n",
       "      <td>15.0</td>\n",
       "      <td>2.022284e+05</td>\n",
       "      <td>4414.374150</td>\n",
       "      <td>70.576871</td>\n",
       "      <td>731.824490</td>\n",
       "      <td>0.000000</td>\n",
       "      <td>0.000000</td>\n",
       "      <td>0.000000</td>\n",
       "      <td>9.261224</td>\n",
       "      <td>62.547037</td>\n",
       "    </tr>\n",
       "    <tr>\n",
       "      <th>4</th>\n",
       "      <td>17.0</td>\n",
       "      <td>5.987503e+05</td>\n",
       "      <td>4481.721154</td>\n",
       "      <td>236.309829</td>\n",
       "      <td>973.810897</td>\n",
       "      <td>0.013889</td>\n",
       "      <td>0.039530</td>\n",
       "      <td>0.001068</td>\n",
       "      <td>11.117521</td>\n",
       "      <td>18.965445</td>\n",
       "    </tr>\n",
       "    <tr>\n",
       "      <th>5</th>\n",
       "      <td>19.0</td>\n",
       "      <td>2.405090e+05</td>\n",
       "      <td>1850.531250</td>\n",
       "      <td>162.187500</td>\n",
       "      <td>555.906250</td>\n",
       "      <td>0.000000</td>\n",
       "      <td>0.031250</td>\n",
       "      <td>0.000000</td>\n",
       "      <td>12.010417</td>\n",
       "      <td>11.409827</td>\n",
       "    </tr>\n",
       "    <tr>\n",
       "      <th>6</th>\n",
       "      <td>20.0</td>\n",
       "      <td>2.814424e+05</td>\n",
       "      <td>7030.969109</td>\n",
       "      <td>235.154454</td>\n",
       "      <td>3433.247845</td>\n",
       "      <td>0.027299</td>\n",
       "      <td>0.017241</td>\n",
       "      <td>0.000000</td>\n",
       "      <td>8.913075</td>\n",
       "      <td>29.899366</td>\n",
       "    </tr>\n",
       "    <tr>\n",
       "      <th>7</th>\n",
       "      <td>22.0</td>\n",
       "      <td>2.098027e+05</td>\n",
       "      <td>3022.985402</td>\n",
       "      <td>141.531746</td>\n",
       "      <td>598.848498</td>\n",
       "      <td>0.017149</td>\n",
       "      <td>0.048611</td>\n",
       "      <td>0.000000</td>\n",
       "      <td>10.201531</td>\n",
       "      <td>21.359062</td>\n",
       "    </tr>\n",
       "    <tr>\n",
       "      <th>8</th>\n",
       "      <td>23.0</td>\n",
       "      <td>3.598452e+05</td>\n",
       "      <td>6376.857004</td>\n",
       "      <td>260.157588</td>\n",
       "      <td>1472.893969</td>\n",
       "      <td>0.018969</td>\n",
       "      <td>0.047665</td>\n",
       "      <td>0.000000</td>\n",
       "      <td>9.267023</td>\n",
       "      <td>24.511517</td>\n",
       "    </tr>\n",
       "    <tr>\n",
       "      <th>9</th>\n",
       "      <td>24.0</td>\n",
       "      <td>5.103813e+05</td>\n",
       "      <td>9853.064768</td>\n",
       "      <td>877.924400</td>\n",
       "      <td>1934.583920</td>\n",
       "      <td>0.008152</td>\n",
       "      <td>0.031044</td>\n",
       "      <td>0.000223</td>\n",
       "      <td>9.571078</td>\n",
       "      <td>11.223136</td>\n",
       "    </tr>\n",
       "    <tr>\n",
       "      <th>10</th>\n",
       "      <td>25.0</td>\n",
       "      <td>1.546775e+05</td>\n",
       "      <td>1834.867449</td>\n",
       "      <td>162.826827</td>\n",
       "      <td>549.022422</td>\n",
       "      <td>0.020575</td>\n",
       "      <td>0.066078</td>\n",
       "      <td>0.001187</td>\n",
       "      <td>9.736217</td>\n",
       "      <td>11.268828</td>\n",
       "    </tr>\n",
       "    <tr>\n",
       "      <th>11</th>\n",
       "      <td>26.0</td>\n",
       "      <td>3.146176e+05</td>\n",
       "      <td>6476.512545</td>\n",
       "      <td>227.510753</td>\n",
       "      <td>677.182796</td>\n",
       "      <td>0.035842</td>\n",
       "      <td>0.021505</td>\n",
       "      <td>0.000000</td>\n",
       "      <td>9.161290</td>\n",
       "      <td>28.466842</td>\n",
       "    </tr>\n",
       "    <tr>\n",
       "      <th>12</th>\n",
       "      <td>27.0</td>\n",
       "      <td>1.511617e+05</td>\n",
       "      <td>2299.668724</td>\n",
       "      <td>110.648148</td>\n",
       "      <td>579.380658</td>\n",
       "      <td>0.032922</td>\n",
       "      <td>0.039095</td>\n",
       "      <td>0.000000</td>\n",
       "      <td>9.209877</td>\n",
       "      <td>20.783617</td>\n",
       "    </tr>\n",
       "    <tr>\n",
       "      <th>13</th>\n",
       "      <td>28.0</td>\n",
       "      <td>2.685160e+06</td>\n",
       "      <td>46109.139130</td>\n",
       "      <td>1919.313043</td>\n",
       "      <td>7574.260870</td>\n",
       "      <td>0.086957</td>\n",
       "      <td>0.130435</td>\n",
       "      <td>0.000000</td>\n",
       "      <td>11.565217</td>\n",
       "      <td>24.023772</td>\n",
       "    </tr>\n",
       "    <tr>\n",
       "      <th>14</th>\n",
       "      <td>29.0</td>\n",
       "      <td>6.316461e+04</td>\n",
       "      <td>924.333333</td>\n",
       "      <td>84.076389</td>\n",
       "      <td>303.746528</td>\n",
       "      <td>0.006944</td>\n",
       "      <td>0.027778</td>\n",
       "      <td>0.000000</td>\n",
       "      <td>15.729167</td>\n",
       "      <td>10.993970</td>\n",
       "    </tr>\n",
       "    <tr>\n",
       "      <th>15</th>\n",
       "      <td>43.0</td>\n",
       "      <td>1.062983e+05</td>\n",
       "      <td>435.151515</td>\n",
       "      <td>54.800000</td>\n",
       "      <td>258.206061</td>\n",
       "      <td>0.000000</td>\n",
       "      <td>0.000000</td>\n",
       "      <td>0.000000</td>\n",
       "      <td>9.200000</td>\n",
       "      <td>7.940721</td>\n",
       "    </tr>\n",
       "    <tr>\n",
       "      <th>16</th>\n",
       "      <td>44.0</td>\n",
       "      <td>1.664950e+04</td>\n",
       "      <td>3.000000</td>\n",
       "      <td>0.000000</td>\n",
       "      <td>1.000000</td>\n",
       "      <td>0.000000</td>\n",
       "      <td>0.000000</td>\n",
       "      <td>0.000000</td>\n",
       "      <td>8.000000</td>\n",
       "      <td>inf</td>\n",
       "    </tr>\n",
       "  </tbody>\n",
       "</table>\n",
       "</div>"
      ],
      "text/plain": [
       "    category_id         views          likes     dislikes  comment_count  \\\n",
       "0           1.0  5.440154e+05    7496.784545   286.201364    1244.287727   \n",
       "1           2.0  1.198672e+05    1267.125000   108.941667     337.691667   \n",
       "2          10.0  2.080543e+06  131638.056986  3458.475068   16739.951233   \n",
       "3          15.0  2.022284e+05    4414.374150    70.576871     731.824490   \n",
       "4          17.0  5.987503e+05    4481.721154   236.309829     973.810897   \n",
       "5          19.0  2.405090e+05    1850.531250   162.187500     555.906250   \n",
       "6          20.0  2.814424e+05    7030.969109   235.154454    3433.247845   \n",
       "7          22.0  2.098027e+05    3022.985402   141.531746     598.848498   \n",
       "8          23.0  3.598452e+05    6376.857004   260.157588    1472.893969   \n",
       "9          24.0  5.103813e+05    9853.064768   877.924400    1934.583920   \n",
       "10         25.0  1.546775e+05    1834.867449   162.826827     549.022422   \n",
       "11         26.0  3.146176e+05    6476.512545   227.510753     677.182796   \n",
       "12         27.0  1.511617e+05    2299.668724   110.648148     579.380658   \n",
       "13         28.0  2.685160e+06   46109.139130  1919.313043    7574.260870   \n",
       "14         29.0  6.316461e+04     924.333333    84.076389     303.746528   \n",
       "15         43.0  1.062983e+05     435.151515    54.800000     258.206061   \n",
       "16         44.0  1.664950e+04       3.000000     0.000000       1.000000   \n",
       "\n",
       "    comments_disabled  ratings_disabled  video_error_or_removed       hour  \\\n",
       "0            0.008182          0.010455                0.002727   8.455000   \n",
       "1            0.000000          0.000000                0.000000  10.650000   \n",
       "2            0.002740          0.021370                0.012603  10.443288   \n",
       "3            0.000000          0.000000                0.000000   9.261224   \n",
       "4            0.013889          0.039530                0.001068  11.117521   \n",
       "5            0.000000          0.031250                0.000000  12.010417   \n",
       "6            0.027299          0.017241                0.000000   8.913075   \n",
       "7            0.017149          0.048611                0.000000  10.201531   \n",
       "8            0.018969          0.047665                0.000000   9.267023   \n",
       "9            0.008152          0.031044                0.000223   9.571078   \n",
       "10           0.020575          0.066078                0.001187   9.736217   \n",
       "11           0.035842          0.021505                0.000000   9.161290   \n",
       "12           0.032922          0.039095                0.000000   9.209877   \n",
       "13           0.086957          0.130435                0.000000  11.565217   \n",
       "14           0.006944          0.027778                0.000000  15.729167   \n",
       "15           0.000000          0.000000                0.000000   9.200000   \n",
       "16           0.000000          0.000000                0.000000   8.000000   \n",
       "\n",
       "         Rate  \n",
       "0   26.194091  \n",
       "1   11.631225  \n",
       "2   38.062457  \n",
       "3   62.547037  \n",
       "4   18.965445  \n",
       "5   11.409827  \n",
       "6   29.899366  \n",
       "7   21.359062  \n",
       "8   24.511517  \n",
       "9   11.223136  \n",
       "10  11.268828  \n",
       "11  28.466842  \n",
       "12  20.783617  \n",
       "13  24.023772  \n",
       "14  10.993970  \n",
       "15   7.940721  \n",
       "16        inf  "
      ]
     },
     "execution_count": 29,
     "metadata": {},
     "output_type": "execute_result"
    }
   ],
   "source": [
    "KRvideo2[\"Rate\"] = KRvideo2[\"likes\"] / KRvideo2[\"dislikes\"]\n",
    "KRvideo2.dropna(axis=0)"
   ]
  },
  {
   "cell_type": "code",
   "execution_count": 31,
   "metadata": {},
   "outputs": [
    {
     "data": {
      "text/html": [
       "<div>\n",
       "<style scoped>\n",
       "    .dataframe tbody tr th:only-of-type {\n",
       "        vertical-align: middle;\n",
       "    }\n",
       "\n",
       "    .dataframe tbody tr th {\n",
       "        vertical-align: top;\n",
       "    }\n",
       "\n",
       "    .dataframe thead th {\n",
       "        text-align: right;\n",
       "    }\n",
       "</style>\n",
       "<table border=\"1\" class=\"dataframe\">\n",
       "  <thead>\n",
       "    <tr style=\"text-align: right;\">\n",
       "      <th></th>\n",
       "      <th>category_id</th>\n",
       "      <th>views</th>\n",
       "      <th>likes</th>\n",
       "      <th>dislikes</th>\n",
       "      <th>comment_count</th>\n",
       "      <th>comments_disabled</th>\n",
       "      <th>ratings_disabled</th>\n",
       "      <th>video_error_or_removed</th>\n",
       "      <th>hour</th>\n",
       "      <th>Rate</th>\n",
       "    </tr>\n",
       "  </thead>\n",
       "  <tbody>\n",
       "    <tr>\n",
       "      <th>16</th>\n",
       "      <td>44.0</td>\n",
       "      <td>1.664950e+04</td>\n",
       "      <td>3.000000</td>\n",
       "      <td>0.000000</td>\n",
       "      <td>1.000000</td>\n",
       "      <td>0.000000</td>\n",
       "      <td>0.000000</td>\n",
       "      <td>0.000000</td>\n",
       "      <td>8.000000</td>\n",
       "      <td>inf</td>\n",
       "    </tr>\n",
       "    <tr>\n",
       "      <th>3</th>\n",
       "      <td>15.0</td>\n",
       "      <td>2.022284e+05</td>\n",
       "      <td>4414.374150</td>\n",
       "      <td>70.576871</td>\n",
       "      <td>731.824490</td>\n",
       "      <td>0.000000</td>\n",
       "      <td>0.000000</td>\n",
       "      <td>0.000000</td>\n",
       "      <td>9.261224</td>\n",
       "      <td>62.547037</td>\n",
       "    </tr>\n",
       "    <tr>\n",
       "      <th>2</th>\n",
       "      <td>10.0</td>\n",
       "      <td>2.080543e+06</td>\n",
       "      <td>131638.056986</td>\n",
       "      <td>3458.475068</td>\n",
       "      <td>16739.951233</td>\n",
       "      <td>0.002740</td>\n",
       "      <td>0.021370</td>\n",
       "      <td>0.012603</td>\n",
       "      <td>10.443288</td>\n",
       "      <td>38.062457</td>\n",
       "    </tr>\n",
       "    <tr>\n",
       "      <th>6</th>\n",
       "      <td>20.0</td>\n",
       "      <td>2.814424e+05</td>\n",
       "      <td>7030.969109</td>\n",
       "      <td>235.154454</td>\n",
       "      <td>3433.247845</td>\n",
       "      <td>0.027299</td>\n",
       "      <td>0.017241</td>\n",
       "      <td>0.000000</td>\n",
       "      <td>8.913075</td>\n",
       "      <td>29.899366</td>\n",
       "    </tr>\n",
       "    <tr>\n",
       "      <th>11</th>\n",
       "      <td>26.0</td>\n",
       "      <td>3.146176e+05</td>\n",
       "      <td>6476.512545</td>\n",
       "      <td>227.510753</td>\n",
       "      <td>677.182796</td>\n",
       "      <td>0.035842</td>\n",
       "      <td>0.021505</td>\n",
       "      <td>0.000000</td>\n",
       "      <td>9.161290</td>\n",
       "      <td>28.466842</td>\n",
       "    </tr>\n",
       "    <tr>\n",
       "      <th>0</th>\n",
       "      <td>1.0</td>\n",
       "      <td>5.440154e+05</td>\n",
       "      <td>7496.784545</td>\n",
       "      <td>286.201364</td>\n",
       "      <td>1244.287727</td>\n",
       "      <td>0.008182</td>\n",
       "      <td>0.010455</td>\n",
       "      <td>0.002727</td>\n",
       "      <td>8.455000</td>\n",
       "      <td>26.194091</td>\n",
       "    </tr>\n",
       "    <tr>\n",
       "      <th>8</th>\n",
       "      <td>23.0</td>\n",
       "      <td>3.598452e+05</td>\n",
       "      <td>6376.857004</td>\n",
       "      <td>260.157588</td>\n",
       "      <td>1472.893969</td>\n",
       "      <td>0.018969</td>\n",
       "      <td>0.047665</td>\n",
       "      <td>0.000000</td>\n",
       "      <td>9.267023</td>\n",
       "      <td>24.511517</td>\n",
       "    </tr>\n",
       "    <tr>\n",
       "      <th>13</th>\n",
       "      <td>28.0</td>\n",
       "      <td>2.685160e+06</td>\n",
       "      <td>46109.139130</td>\n",
       "      <td>1919.313043</td>\n",
       "      <td>7574.260870</td>\n",
       "      <td>0.086957</td>\n",
       "      <td>0.130435</td>\n",
       "      <td>0.000000</td>\n",
       "      <td>11.565217</td>\n",
       "      <td>24.023772</td>\n",
       "    </tr>\n",
       "    <tr>\n",
       "      <th>7</th>\n",
       "      <td>22.0</td>\n",
       "      <td>2.098027e+05</td>\n",
       "      <td>3022.985402</td>\n",
       "      <td>141.531746</td>\n",
       "      <td>598.848498</td>\n",
       "      <td>0.017149</td>\n",
       "      <td>0.048611</td>\n",
       "      <td>0.000000</td>\n",
       "      <td>10.201531</td>\n",
       "      <td>21.359062</td>\n",
       "    </tr>\n",
       "    <tr>\n",
       "      <th>12</th>\n",
       "      <td>27.0</td>\n",
       "      <td>1.511617e+05</td>\n",
       "      <td>2299.668724</td>\n",
       "      <td>110.648148</td>\n",
       "      <td>579.380658</td>\n",
       "      <td>0.032922</td>\n",
       "      <td>0.039095</td>\n",
       "      <td>0.000000</td>\n",
       "      <td>9.209877</td>\n",
       "      <td>20.783617</td>\n",
       "    </tr>\n",
       "    <tr>\n",
       "      <th>4</th>\n",
       "      <td>17.0</td>\n",
       "      <td>5.987503e+05</td>\n",
       "      <td>4481.721154</td>\n",
       "      <td>236.309829</td>\n",
       "      <td>973.810897</td>\n",
       "      <td>0.013889</td>\n",
       "      <td>0.039530</td>\n",
       "      <td>0.001068</td>\n",
       "      <td>11.117521</td>\n",
       "      <td>18.965445</td>\n",
       "    </tr>\n",
       "    <tr>\n",
       "      <th>1</th>\n",
       "      <td>2.0</td>\n",
       "      <td>1.198672e+05</td>\n",
       "      <td>1267.125000</td>\n",
       "      <td>108.941667</td>\n",
       "      <td>337.691667</td>\n",
       "      <td>0.000000</td>\n",
       "      <td>0.000000</td>\n",
       "      <td>0.000000</td>\n",
       "      <td>10.650000</td>\n",
       "      <td>11.631225</td>\n",
       "    </tr>\n",
       "    <tr>\n",
       "      <th>5</th>\n",
       "      <td>19.0</td>\n",
       "      <td>2.405090e+05</td>\n",
       "      <td>1850.531250</td>\n",
       "      <td>162.187500</td>\n",
       "      <td>555.906250</td>\n",
       "      <td>0.000000</td>\n",
       "      <td>0.031250</td>\n",
       "      <td>0.000000</td>\n",
       "      <td>12.010417</td>\n",
       "      <td>11.409827</td>\n",
       "    </tr>\n",
       "    <tr>\n",
       "      <th>10</th>\n",
       "      <td>25.0</td>\n",
       "      <td>1.546775e+05</td>\n",
       "      <td>1834.867449</td>\n",
       "      <td>162.826827</td>\n",
       "      <td>549.022422</td>\n",
       "      <td>0.020575</td>\n",
       "      <td>0.066078</td>\n",
       "      <td>0.001187</td>\n",
       "      <td>9.736217</td>\n",
       "      <td>11.268828</td>\n",
       "    </tr>\n",
       "    <tr>\n",
       "      <th>9</th>\n",
       "      <td>24.0</td>\n",
       "      <td>5.103813e+05</td>\n",
       "      <td>9853.064768</td>\n",
       "      <td>877.924400</td>\n",
       "      <td>1934.583920</td>\n",
       "      <td>0.008152</td>\n",
       "      <td>0.031044</td>\n",
       "      <td>0.000223</td>\n",
       "      <td>9.571078</td>\n",
       "      <td>11.223136</td>\n",
       "    </tr>\n",
       "    <tr>\n",
       "      <th>14</th>\n",
       "      <td>29.0</td>\n",
       "      <td>6.316461e+04</td>\n",
       "      <td>924.333333</td>\n",
       "      <td>84.076389</td>\n",
       "      <td>303.746528</td>\n",
       "      <td>0.006944</td>\n",
       "      <td>0.027778</td>\n",
       "      <td>0.000000</td>\n",
       "      <td>15.729167</td>\n",
       "      <td>10.993970</td>\n",
       "    </tr>\n",
       "    <tr>\n",
       "      <th>15</th>\n",
       "      <td>43.0</td>\n",
       "      <td>1.062983e+05</td>\n",
       "      <td>435.151515</td>\n",
       "      <td>54.800000</td>\n",
       "      <td>258.206061</td>\n",
       "      <td>0.000000</td>\n",
       "      <td>0.000000</td>\n",
       "      <td>0.000000</td>\n",
       "      <td>9.200000</td>\n",
       "      <td>7.940721</td>\n",
       "    </tr>\n",
       "  </tbody>\n",
       "</table>\n",
       "</div>"
      ],
      "text/plain": [
       "    category_id         views          likes     dislikes  comment_count  \\\n",
       "16         44.0  1.664950e+04       3.000000     0.000000       1.000000   \n",
       "3          15.0  2.022284e+05    4414.374150    70.576871     731.824490   \n",
       "2          10.0  2.080543e+06  131638.056986  3458.475068   16739.951233   \n",
       "6          20.0  2.814424e+05    7030.969109   235.154454    3433.247845   \n",
       "11         26.0  3.146176e+05    6476.512545   227.510753     677.182796   \n",
       "0           1.0  5.440154e+05    7496.784545   286.201364    1244.287727   \n",
       "8          23.0  3.598452e+05    6376.857004   260.157588    1472.893969   \n",
       "13         28.0  2.685160e+06   46109.139130  1919.313043    7574.260870   \n",
       "7          22.0  2.098027e+05    3022.985402   141.531746     598.848498   \n",
       "12         27.0  1.511617e+05    2299.668724   110.648148     579.380658   \n",
       "4          17.0  5.987503e+05    4481.721154   236.309829     973.810897   \n",
       "1           2.0  1.198672e+05    1267.125000   108.941667     337.691667   \n",
       "5          19.0  2.405090e+05    1850.531250   162.187500     555.906250   \n",
       "10         25.0  1.546775e+05    1834.867449   162.826827     549.022422   \n",
       "9          24.0  5.103813e+05    9853.064768   877.924400    1934.583920   \n",
       "14         29.0  6.316461e+04     924.333333    84.076389     303.746528   \n",
       "15         43.0  1.062983e+05     435.151515    54.800000     258.206061   \n",
       "\n",
       "    comments_disabled  ratings_disabled  video_error_or_removed       hour  \\\n",
       "16           0.000000          0.000000                0.000000   8.000000   \n",
       "3            0.000000          0.000000                0.000000   9.261224   \n",
       "2            0.002740          0.021370                0.012603  10.443288   \n",
       "6            0.027299          0.017241                0.000000   8.913075   \n",
       "11           0.035842          0.021505                0.000000   9.161290   \n",
       "0            0.008182          0.010455                0.002727   8.455000   \n",
       "8            0.018969          0.047665                0.000000   9.267023   \n",
       "13           0.086957          0.130435                0.000000  11.565217   \n",
       "7            0.017149          0.048611                0.000000  10.201531   \n",
       "12           0.032922          0.039095                0.000000   9.209877   \n",
       "4            0.013889          0.039530                0.001068  11.117521   \n",
       "1            0.000000          0.000000                0.000000  10.650000   \n",
       "5            0.000000          0.031250                0.000000  12.010417   \n",
       "10           0.020575          0.066078                0.001187   9.736217   \n",
       "9            0.008152          0.031044                0.000223   9.571078   \n",
       "14           0.006944          0.027778                0.000000  15.729167   \n",
       "15           0.000000          0.000000                0.000000   9.200000   \n",
       "\n",
       "         Rate  \n",
       "16        inf  \n",
       "3   62.547037  \n",
       "2   38.062457  \n",
       "6   29.899366  \n",
       "11  28.466842  \n",
       "0   26.194091  \n",
       "8   24.511517  \n",
       "13  24.023772  \n",
       "7   21.359062  \n",
       "12  20.783617  \n",
       "4   18.965445  \n",
       "1   11.631225  \n",
       "5   11.409827  \n",
       "10  11.268828  \n",
       "9   11.223136  \n",
       "14  10.993970  \n",
       "15   7.940721  "
      ]
     },
     "execution_count": 31,
     "metadata": {},
     "output_type": "execute_result"
    }
   ],
   "source": [
    "KRvideo2.sort_values(by=[\"Rate\"], ascending = False)"
   ]
  },
  {
   "cell_type": "markdown",
   "metadata": {},
   "source": [
    "한국의 경우dislikes가 없고 표본이 적은 44번 카테고리를 제외하고, 15번 (반려동물 관련),10번 (음악), 20번 (게임), 26번 (패션 스타일), 1번 (영화 & 애니메이션) 순으로 좋아요/싫어요 비율이 높은 것으로 드러났다."
   ]
  },
  {
   "cell_type": "code",
   "execution_count": 32,
   "metadata": {},
   "outputs": [
    {
     "data": {
      "text/html": [
       "<div>\n",
       "<style scoped>\n",
       "    .dataframe tbody tr th:only-of-type {\n",
       "        vertical-align: middle;\n",
       "    }\n",
       "\n",
       "    .dataframe tbody tr th {\n",
       "        vertical-align: top;\n",
       "    }\n",
       "\n",
       "    .dataframe thead th {\n",
       "        text-align: right;\n",
       "    }\n",
       "</style>\n",
       "<table border=\"1\" class=\"dataframe\">\n",
       "  <thead>\n",
       "    <tr style=\"text-align: right;\">\n",
       "      <th></th>\n",
       "      <th>category_id</th>\n",
       "      <th>views</th>\n",
       "      <th>likes</th>\n",
       "      <th>dislikes</th>\n",
       "      <th>comment_count</th>\n",
       "      <th>comments_disabled</th>\n",
       "      <th>ratings_disabled</th>\n",
       "      <th>video_error_or_removed</th>\n",
       "      <th>hour</th>\n",
       "      <th>Rate</th>\n",
       "    </tr>\n",
       "  </thead>\n",
       "  <tbody>\n",
       "    <tr>\n",
       "      <th>2</th>\n",
       "      <td>10.0</td>\n",
       "      <td>8.297243e+05</td>\n",
       "      <td>64803.658915</td>\n",
       "      <td>1460.029457</td>\n",
       "      <td>8627.782171</td>\n",
       "      <td>0.040310</td>\n",
       "      <td>0.034109</td>\n",
       "      <td>0.004651</td>\n",
       "      <td>11.571318</td>\n",
       "      <td>44.385172</td>\n",
       "    </tr>\n",
       "    <tr>\n",
       "      <th>3</th>\n",
       "      <td>15.0</td>\n",
       "      <td>6.271681e+04</td>\n",
       "      <td>1228.679681</td>\n",
       "      <td>41.519077</td>\n",
       "      <td>201.301686</td>\n",
       "      <td>0.075421</td>\n",
       "      <td>0.073647</td>\n",
       "      <td>0.000000</td>\n",
       "      <td>9.178350</td>\n",
       "      <td>29.593136</td>\n",
       "    </tr>\n",
       "    <tr>\n",
       "      <th>12</th>\n",
       "      <td>27.0</td>\n",
       "      <td>8.666788e+04</td>\n",
       "      <td>4747.008929</td>\n",
       "      <td>180.142857</td>\n",
       "      <td>408.187500</td>\n",
       "      <td>0.026786</td>\n",
       "      <td>0.026786</td>\n",
       "      <td>0.000000</td>\n",
       "      <td>12.455357</td>\n",
       "      <td>26.351358</td>\n",
       "    </tr>\n",
       "    <tr>\n",
       "      <th>13</th>\n",
       "      <td>28.0</td>\n",
       "      <td>1.213748e+06</td>\n",
       "      <td>23952.841772</td>\n",
       "      <td>1017.898734</td>\n",
       "      <td>3985.335443</td>\n",
       "      <td>0.088608</td>\n",
       "      <td>0.259494</td>\n",
       "      <td>0.000000</td>\n",
       "      <td>12.417722</td>\n",
       "      <td>23.531655</td>\n",
       "    </tr>\n",
       "    <tr>\n",
       "      <th>0</th>\n",
       "      <td>1.0</td>\n",
       "      <td>2.554023e+05</td>\n",
       "      <td>4852.962295</td>\n",
       "      <td>241.970492</td>\n",
       "      <td>722.137705</td>\n",
       "      <td>0.077869</td>\n",
       "      <td>0.086885</td>\n",
       "      <td>0.004918</td>\n",
       "      <td>10.306557</td>\n",
       "      <td>20.056009</td>\n",
       "    </tr>\n",
       "    <tr>\n",
       "      <th>8</th>\n",
       "      <td>23.0</td>\n",
       "      <td>3.781614e+05</td>\n",
       "      <td>10158.261104</td>\n",
       "      <td>601.515478</td>\n",
       "      <td>1654.676985</td>\n",
       "      <td>0.006729</td>\n",
       "      <td>0.012113</td>\n",
       "      <td>0.000000</td>\n",
       "      <td>11.325707</td>\n",
       "      <td>16.887780</td>\n",
       "    </tr>\n",
       "    <tr>\n",
       "      <th>11</th>\n",
       "      <td>26.0</td>\n",
       "      <td>1.356909e+05</td>\n",
       "      <td>3041.994994</td>\n",
       "      <td>189.190238</td>\n",
       "      <td>460.242804</td>\n",
       "      <td>0.043805</td>\n",
       "      <td>0.033792</td>\n",
       "      <td>0.000000</td>\n",
       "      <td>9.510638</td>\n",
       "      <td>16.079027</td>\n",
       "    </tr>\n",
       "    <tr>\n",
       "      <th>9</th>\n",
       "      <td>24.0</td>\n",
       "      <td>2.821966e+05</td>\n",
       "      <td>6349.459818</td>\n",
       "      <td>421.486979</td>\n",
       "      <td>966.946477</td>\n",
       "      <td>0.099696</td>\n",
       "      <td>0.074613</td>\n",
       "      <td>0.000000</td>\n",
       "      <td>10.623902</td>\n",
       "      <td>15.064427</td>\n",
       "    </tr>\n",
       "    <tr>\n",
       "      <th>4</th>\n",
       "      <td>17.0</td>\n",
       "      <td>2.850889e+05</td>\n",
       "      <td>2731.179185</td>\n",
       "      <td>185.733922</td>\n",
       "      <td>516.319588</td>\n",
       "      <td>0.069710</td>\n",
       "      <td>0.073638</td>\n",
       "      <td>0.000000</td>\n",
       "      <td>11.256750</td>\n",
       "      <td>14.704795</td>\n",
       "    </tr>\n",
       "    <tr>\n",
       "      <th>1</th>\n",
       "      <td>2.0</td>\n",
       "      <td>8.319242e+04</td>\n",
       "      <td>1050.442857</td>\n",
       "      <td>77.085714</td>\n",
       "      <td>162.910714</td>\n",
       "      <td>0.028571</td>\n",
       "      <td>0.053571</td>\n",
       "      <td>0.000000</td>\n",
       "      <td>9.860714</td>\n",
       "      <td>13.626946</td>\n",
       "    </tr>\n",
       "    <tr>\n",
       "      <th>6</th>\n",
       "      <td>20.0</td>\n",
       "      <td>1.684717e+05</td>\n",
       "      <td>2949.133981</td>\n",
       "      <td>217.636893</td>\n",
       "      <td>597.896117</td>\n",
       "      <td>0.069903</td>\n",
       "      <td>0.055340</td>\n",
       "      <td>0.000000</td>\n",
       "      <td>9.830097</td>\n",
       "      <td>13.550708</td>\n",
       "    </tr>\n",
       "    <tr>\n",
       "      <th>14</th>\n",
       "      <td>29.0</td>\n",
       "      <td>9.003361e+04</td>\n",
       "      <td>2298.333333</td>\n",
       "      <td>197.777778</td>\n",
       "      <td>576.611111</td>\n",
       "      <td>0.000000</td>\n",
       "      <td>0.000000</td>\n",
       "      <td>0.000000</td>\n",
       "      <td>9.333333</td>\n",
       "      <td>11.620787</td>\n",
       "    </tr>\n",
       "    <tr>\n",
       "      <th>7</th>\n",
       "      <td>22.0</td>\n",
       "      <td>1.500606e+05</td>\n",
       "      <td>2476.707791</td>\n",
       "      <td>234.771392</td>\n",
       "      <td>426.350958</td>\n",
       "      <td>0.032439</td>\n",
       "      <td>0.079183</td>\n",
       "      <td>0.000000</td>\n",
       "      <td>11.107791</td>\n",
       "      <td>10.549445</td>\n",
       "    </tr>\n",
       "    <tr>\n",
       "      <th>10</th>\n",
       "      <td>25.0</td>\n",
       "      <td>1.338265e+05</td>\n",
       "      <td>1192.448276</td>\n",
       "      <td>215.830460</td>\n",
       "      <td>389.826149</td>\n",
       "      <td>0.105603</td>\n",
       "      <td>0.054598</td>\n",
       "      <td>0.000000</td>\n",
       "      <td>11.027299</td>\n",
       "      <td>5.524930</td>\n",
       "    </tr>\n",
       "    <tr>\n",
       "      <th>5</th>\n",
       "      <td>19.0</td>\n",
       "      <td>1.032965e+05</td>\n",
       "      <td>1234.293706</td>\n",
       "      <td>269.167832</td>\n",
       "      <td>345.055944</td>\n",
       "      <td>0.034965</td>\n",
       "      <td>0.013986</td>\n",
       "      <td>0.000000</td>\n",
       "      <td>10.076923</td>\n",
       "      <td>4.585591</td>\n",
       "    </tr>\n",
       "  </tbody>\n",
       "</table>\n",
       "</div>"
      ],
      "text/plain": [
       "    category_id         views         likes     dislikes  comment_count  \\\n",
       "2          10.0  8.297243e+05  64803.658915  1460.029457    8627.782171   \n",
       "3          15.0  6.271681e+04   1228.679681    41.519077     201.301686   \n",
       "12         27.0  8.666788e+04   4747.008929   180.142857     408.187500   \n",
       "13         28.0  1.213748e+06  23952.841772  1017.898734    3985.335443   \n",
       "0           1.0  2.554023e+05   4852.962295   241.970492     722.137705   \n",
       "8          23.0  3.781614e+05  10158.261104   601.515478    1654.676985   \n",
       "11         26.0  1.356909e+05   3041.994994   189.190238     460.242804   \n",
       "9          24.0  2.821966e+05   6349.459818   421.486979     966.946477   \n",
       "4          17.0  2.850889e+05   2731.179185   185.733922     516.319588   \n",
       "1           2.0  8.319242e+04   1050.442857    77.085714     162.910714   \n",
       "6          20.0  1.684717e+05   2949.133981   217.636893     597.896117   \n",
       "14         29.0  9.003361e+04   2298.333333   197.777778     576.611111   \n",
       "7          22.0  1.500606e+05   2476.707791   234.771392     426.350958   \n",
       "10         25.0  1.338265e+05   1192.448276   215.830460     389.826149   \n",
       "5          19.0  1.032965e+05   1234.293706   269.167832     345.055944   \n",
       "\n",
       "    comments_disabled  ratings_disabled  video_error_or_removed       hour  \\\n",
       "2            0.040310          0.034109                0.004651  11.571318   \n",
       "3            0.075421          0.073647                0.000000   9.178350   \n",
       "12           0.026786          0.026786                0.000000  12.455357   \n",
       "13           0.088608          0.259494                0.000000  12.417722   \n",
       "0            0.077869          0.086885                0.004918  10.306557   \n",
       "8            0.006729          0.012113                0.000000  11.325707   \n",
       "11           0.043805          0.033792                0.000000   9.510638   \n",
       "9            0.099696          0.074613                0.000000  10.623902   \n",
       "4            0.069710          0.073638                0.000000  11.256750   \n",
       "1            0.028571          0.053571                0.000000   9.860714   \n",
       "6            0.069903          0.055340                0.000000   9.830097   \n",
       "14           0.000000          0.000000                0.000000   9.333333   \n",
       "7            0.032439          0.079183                0.000000  11.107791   \n",
       "10           0.105603          0.054598                0.000000  11.027299   \n",
       "5            0.034965          0.013986                0.000000  10.076923   \n",
       "\n",
       "         Rate  \n",
       "2   44.385172  \n",
       "3   29.593136  \n",
       "12  26.351358  \n",
       "13  23.531655  \n",
       "0   20.056009  \n",
       "8   16.887780  \n",
       "11  16.079027  \n",
       "9   15.064427  \n",
       "4   14.704795  \n",
       "1   13.626946  \n",
       "6   13.550708  \n",
       "14  11.620787  \n",
       "7   10.549445  \n",
       "10   5.524930  \n",
       "5    4.585591  "
      ]
     },
     "execution_count": 32,
     "metadata": {},
     "output_type": "execute_result"
    }
   ],
   "source": [
    "JPvideo2 = JPvideo.groupby([JPvideo.category_id], as_index = False).mean()\n",
    "JPvideo2[\"Rate\"] = JPvideo2[\"likes\"] / JPvideo2[\"dislikes\"]\n",
    "JPvideo2.dropna(axis=0)\n",
    "JPvideo2.sort_values(by=[\"Rate\"], ascending = False)"
   ]
  },
  {
   "cell_type": "markdown",
   "metadata": {},
   "source": [
    "일본의 경우 10번 (음악), 15번 (반려동물), 27번 (교육), 28번 (과학 & 테크놀로지), 1번 (영화 & 애니메이션)으로 우리나라와 약간의 차이가 있긴 했지만 두 국가 모두 음악 관련 동영상의 선호도가 최상위권이라는 것을 알 수 있었다. "
   ]
  },
  {
   "cell_type": "code",
   "execution_count": 33,
   "metadata": {},
   "outputs": [
    {
     "data": {
      "image/png": "[encoded data removed]",
      "text/plain": [
       "<Figure size 432x288 with 1 Axes>"
      ]
     },
     "metadata": {
      "needs_background": "light"
     },
     "output_type": "display_data"
    }
   ],
   "source": [
    "ax = plt.subplots()\n",
    "ax = sns.barplot(x = 'category_id', y = 'Rate', data = KRvideo2)"
   ]
  },
  {
   "cell_type": "code",
   "execution_count": 34,
   "metadata": {},
   "outputs": [
    {
     "data": {
      "image/png": "[encoded data removed]",
      "text/plain": [
       "<Figure size 432x288 with 1 Axes>"
      ]
     },
     "metadata": {
      "needs_background": "light"
     },
     "output_type": "display_data"
    }
   ],
   "source": [
    "ax = plt.subplots()\n",
    "ax = sns.barplot(x = 'category_id', y = 'Rate', data = JPvideo2)"
   ]
  },
  {
   "cell_type": "markdown",
   "metadata": {},
   "source": [
    "분포를 살펴보니 가장 적은 평균 좋아요 비율을 기록한 카테고리 또한 서로 달랐는데, 한국은 '공연' 카테고리가, 일본은 '여행' 카테고리가 가장 낮았다."
   ]
  },
  {
   "cell_type": "markdown",
   "metadata": {},
   "source": [
    "4) 한국과 일본의 평균 년도별 유튜브 조회수 알아보기"
   ]
  },
  {
   "cell_type": "code",
   "execution_count": 36,
   "metadata": {},
   "outputs": [],
   "source": [
    "KRvideo['Year'] = KRvideo['publish_point'].dt.year\n",
    "JPvideo['Year'] = JPvideo['publish_point'].dt.year"
   ]
  },
  {
   "cell_type": "code",
   "execution_count": 38,
   "metadata": {},
   "outputs": [
    {
     "data": {
      "text/plain": [
       "Year\n",
       "2011     70430.333333\n",
       "2014     47919.500000\n",
       "2015      8720.666667\n",
       "2016    809226.333333\n",
       "2017    465636.545625\n",
       "2018    411670.192680\n",
       "Name: views, dtype: float64"
      ]
     },
     "execution_count": 38,
     "metadata": {},
     "output_type": "execute_result"
    }
   ],
   "source": [
    "KRvideo.groupby(\"Year\")[\"views\"].mean()"
   ]
  },
  {
   "cell_type": "code",
   "execution_count": 39,
   "metadata": {},
   "outputs": [
    {
     "data": {
      "text/plain": [
       "Year\n",
       "2015      6965.000000\n",
       "2017      6218.500000\n",
       "2018    262071.263853\n",
       "Name: views, dtype: float64"
      ]
     },
     "execution_count": 39,
     "metadata": {},
     "output_type": "execute_result"
    }
   ],
   "source": [
    "JPvideo.groupby(\"Year\")[\"views\"].mean()"
   ]
  },
  {
   "cell_type": "code",
   "execution_count": 40,
   "metadata": {},
   "outputs": [
    {
     "data": {
      "text/html": [
       "<div>\n",
       "<style scoped>\n",
       "    .dataframe tbody tr th:only-of-type {\n",
       "        vertical-align: middle;\n",
       "    }\n",
       "\n",
       "    .dataframe tbody tr th {\n",
       "        vertical-align: top;\n",
       "    }\n",
       "\n",
       "    .dataframe thead th {\n",
       "        text-align: right;\n",
       "    }\n",
       "</style>\n",
       "<table border=\"1\" class=\"dataframe\">\n",
       "  <thead>\n",
       "    <tr style=\"text-align: right;\">\n",
       "      <th></th>\n",
       "      <th>Year</th>\n",
       "      <th>meanviews_KR</th>\n",
       "    </tr>\n",
       "  </thead>\n",
       "  <tbody>\n",
       "    <tr>\n",
       "      <th>0</th>\n",
       "      <td>2015</td>\n",
       "      <td>8720.7</td>\n",
       "    </tr>\n",
       "    <tr>\n",
       "      <th>1</th>\n",
       "      <td>2017</td>\n",
       "      <td>465636.5</td>\n",
       "    </tr>\n",
       "    <tr>\n",
       "      <th>2</th>\n",
       "      <td>2018</td>\n",
       "      <td>411670.2</td>\n",
       "    </tr>\n",
       "  </tbody>\n",
       "</table>\n",
       "</div>"
      ],
      "text/plain": [
       "   Year  meanviews_KR\n",
       "0  2015        8720.7\n",
       "1  2017      465636.5\n",
       "2  2018      411670.2"
      ]
     },
     "execution_count": 40,
     "metadata": {},
     "output_type": "execute_result"
    }
   ],
   "source": [
    "df_Korea = pd.DataFrame({'Year': ['2015','2017','2018'],\n",
    "                  'meanviews_KR': [8720.7, 465636.5,411670.2]})\n",
    "df_Korea"
   ]
  },
  {
   "cell_type": "code",
   "execution_count": 41,
   "metadata": {},
   "outputs": [
    {
     "data": {
      "text/html": [
       "<div>\n",
       "<style scoped>\n",
       "    .dataframe tbody tr th:only-of-type {\n",
       "        vertical-align: middle;\n",
       "    }\n",
       "\n",
       "    .dataframe tbody tr th {\n",
       "        vertical-align: top;\n",
       "    }\n",
       "\n",
       "    .dataframe thead th {\n",
       "        text-align: right;\n",
       "    }\n",
       "</style>\n",
       "<table border=\"1\" class=\"dataframe\">\n",
       "  <thead>\n",
       "    <tr style=\"text-align: right;\">\n",
       "      <th></th>\n",
       "      <th>Year</th>\n",
       "      <th>meanviews_JP</th>\n",
       "    </tr>\n",
       "  </thead>\n",
       "  <tbody>\n",
       "    <tr>\n",
       "      <th>0</th>\n",
       "      <td>2015</td>\n",
       "      <td>6965.0</td>\n",
       "    </tr>\n",
       "    <tr>\n",
       "      <th>1</th>\n",
       "      <td>2017</td>\n",
       "      <td>6218.0</td>\n",
       "    </tr>\n",
       "    <tr>\n",
       "      <th>2</th>\n",
       "      <td>2018</td>\n",
       "      <td>262071.3</td>\n",
       "    </tr>\n",
       "  </tbody>\n",
       "</table>\n",
       "</div>"
      ],
      "text/plain": [
       "   Year  meanviews_JP\n",
       "0  2015        6965.0\n",
       "1  2017        6218.0\n",
       "2  2018      262071.3"
      ]
     },
     "execution_count": 41,
     "metadata": {},
     "output_type": "execute_result"
    }
   ],
   "source": [
    "df_Japan = pd.DataFrame({'Year': ['2015','2017','2018'],\n",
    "                  'meanviews_JP': [6965, 6218,262071.3]})\n",
    "df_Japan"
   ]
  },
  {
   "cell_type": "code",
   "execution_count": 42,
   "metadata": {},
   "outputs": [
    {
     "data": {
      "text/html": [
       "<div>\n",
       "<style scoped>\n",
       "    .dataframe tbody tr th:only-of-type {\n",
       "        vertical-align: middle;\n",
       "    }\n",
       "\n",
       "    .dataframe tbody tr th {\n",
       "        vertical-align: top;\n",
       "    }\n",
       "\n",
       "    .dataframe thead th {\n",
       "        text-align: right;\n",
       "    }\n",
       "</style>\n",
       "<table border=\"1\" class=\"dataframe\">\n",
       "  <thead>\n",
       "    <tr style=\"text-align: right;\">\n",
       "      <th></th>\n",
       "      <th>Year</th>\n",
       "      <th>meanviews_KR</th>\n",
       "      <th>meanviews_JP</th>\n",
       "    </tr>\n",
       "  </thead>\n",
       "  <tbody>\n",
       "    <tr>\n",
       "      <th>0</th>\n",
       "      <td>2015</td>\n",
       "      <td>8720.7</td>\n",
       "      <td>6965.0</td>\n",
       "    </tr>\n",
       "    <tr>\n",
       "      <th>1</th>\n",
       "      <td>2017</td>\n",
       "      <td>465636.5</td>\n",
       "      <td>6218.0</td>\n",
       "    </tr>\n",
       "    <tr>\n",
       "      <th>2</th>\n",
       "      <td>2018</td>\n",
       "      <td>411670.2</td>\n",
       "      <td>262071.3</td>\n",
       "    </tr>\n",
       "  </tbody>\n",
       "</table>\n",
       "</div>"
      ],
      "text/plain": [
       "   Year  meanviews_KR  meanviews_JP\n",
       "0  2015        8720.7        6965.0\n",
       "1  2017      465636.5        6218.0\n",
       "2  2018      411670.2      262071.3"
      ]
     },
     "execution_count": 42,
     "metadata": {},
     "output_type": "execute_result"
    }
   ],
   "source": [
    "result = pd.merge(df_Korea, df_Japan, on = 'Year')\n",
    "result"
   ]
  },
  {
   "cell_type": "code",
   "execution_count": 43,
   "metadata": {},
   "outputs": [
    {
     "data": {
      "text/plain": [
       "<matplotlib.axes._subplots.AxesSubplot at 0x11dc1c40>"
      ]
     },
     "execution_count": 43,
     "metadata": {},
     "output_type": "execute_result"
    },
    {
     "data": {
      "image/png": "[encoded data removed]",
      "text/plain": [
       "<Figure size 432x288 with 1 Axes>"
      ]
     },
     "metadata": {
      "needs_background": "light"
     },
     "output_type": "display_data"
    }
   ],
   "source": [
    "result.plot.bar()"
   ]
  },
  {
   "cell_type": "markdown",
   "metadata": {},
   "source": [
    "한국이 일본보다 더 높은 년도별 유튜브 평균 조회수를 기록하는 것을 알 수 있다."
   ]
  },
  {
   "cell_type": "markdown",
   "metadata": {},
   "source": [
    "5) comments_disabled 기능이 활성화된 비디오는 싫어요 수도 많을까?\n",
    "유튜브는 채널 관리자가 자신의 비디오에 댓글을 달지 못하게 막을 수 있다. 주로 악플이 많이 달린 경우(이 경우 주로 싫어요 수도 높게 나온다), 비디오에 댓글을 달지 못하게 설정이 되어 있는 것을 볼 수 있다. 따라서 영상의 'comments disabled' 기능이 켜진 경우(=댓글을 달지 못하게 설정된 경우)가 그렇지 않은 경우보다 싫어요 수가 많을 것이라고 생각했고, 실제로도 그러한지 분석하고자 한다."
   ]
  },
  {
   "cell_type": "code",
   "execution_count": 45,
   "metadata": {},
   "outputs": [
    {
     "data": {
      "text/plain": [
       "Text(0, 0.5, 'dislikes')"
      ]
     },
     "execution_count": 45,
     "metadata": {},
     "output_type": "execute_result"
    },
    {
     "data": {
      "image/png": "[encoded data removed]",
      "text/plain": [
       "<Figure size 432x288 with 1 Axes>"
      ]
     },
     "metadata": {
      "needs_background": "light"
     },
     "output_type": "display_data"
    }
   ],
   "source": [
    "ax = plt.subplots() \n",
    "ax = sns.barplot(x='comments_disabled', y='dislikes', data=KRvideo) \n",
    "ax.set_title('comments_disabled 여부에 따른 평균 싫어요 개수(한국)') \n",
    "ax.set_xlabel('comments_disabled') \n",
    "ax.set_ylabel('dislikes')\n"
   ]
  },
  {
   "cell_type": "code",
   "execution_count": 46,
   "metadata": {},
   "outputs": [
    {
     "data": {
      "text/plain": [
       "Text(0, 0.5, 'dislikes')"
      ]
     },
     "execution_count": 46,
     "metadata": {},
     "output_type": "execute_result"
    },
    {
     "data": {
      "image/png": "[encoded data removed]",
      "text/plain": [
       "<Figure size 432x288 with 1 Axes>"
      ]
     },
     "metadata": {
      "needs_background": "light"
     },
     "output_type": "display_data"
    }
   ],
   "source": [
    "ax = plt.subplots() \n",
    "ax = sns.barplot(x='comments_disabled', y='dislikes', data=JPvideo) \n",
    "ax.set_title('comments_disabled 여부에 따른 평균 싫어요 개수(일본)') \n",
    "ax.set_xlabel('comments_disabled') \n",
    "ax.set_ylabel('dislikes')"
   ]
  },
  {
   "cell_type": "markdown",
   "metadata": {},
   "source": [
    "한국, 일본 모두 오히려 'comments_disabled'=False일 때 dislikes 수가 더 높게 나왔다. 'comments_disabled 된 영상은 그렇지 않은 영상보다 싫어요를 많이 받을 것이다'라는 가설이 틀렸음을 알 수 있다."
   ]
  },
  {
   "cell_type": "markdown",
   "metadata": {},
   "source": [
    "6) 한/일 각국에서 가장 인기 많은 카테고리는? (총 조회수, 총 좋아요 기준)"
   ]
  },
  {
   "cell_type": "code",
   "execution_count": 47,
   "metadata": {},
   "outputs": [
    {
     "data": {
      "text/plain": [
       "Text(0, 0.5, 'likes')"
      ]
     },
     "execution_count": 47,
     "metadata": {},
     "output_type": "execute_result"
    },
    {
     "data": {
      "image/png": "[encoded data removed]",
      "text/plain": [
       "<Figure size 432x288 with 1 Axes>"
      ]
     },
     "metadata": {
      "needs_background": "light"
     },
     "output_type": "display_data"
    }
   ],
   "source": [
    "ax = plt.subplots() \n",
    "ax = sns.barplot(x='category_id', y='likes', data=KRvideo) \n",
    "ax.set_title('한국인이 가장 좋아하는 카테고리(평균 좋아요 수 기준)') \n",
    "ax.set_xlabel('category_id') \n",
    "ax.set_ylabel('likes')"
   ]
  },
  {
   "cell_type": "markdown",
   "metadata": {},
   "source": [
    "Music(음악)이 2위인 'Science & Technology'(과학기술) 와 약 3배에 달하는 큰 차이로 1위. 그 외 카테고리는 비슷비슷."
   ]
  },
  {
   "cell_type": "code",
   "execution_count": 49,
   "metadata": {},
   "outputs": [
    {
     "data": {
      "text/plain": [
       "Text(0, 0.5, 'views')"
      ]
     },
     "execution_count": 49,
     "metadata": {},
     "output_type": "execute_result"
    },
    {
     "data": {
      "image/png": "[encoded data removed]",
      "text/plain": [
       "<Figure size 432x288 with 1 Axes>"
      ]
     },
     "metadata": {
      "needs_background": "light"
     },
     "output_type": "display_data"
    }
   ],
   "source": [
    "ax = plt.subplots() \n",
    "ax = sns.barplot(x='category_id', y='views', data=KRvideo) \n",
    "ax.set_title('한국인이 가장 좋아하는 카테고리(평균 조회수 기준)') \n",
    "ax.set_xlabel('category_id') \n",
    "ax.set_ylabel('views')"
   ]
  },
  {
   "cell_type": "markdown",
   "metadata": {},
   "source": [
    "조회수 기준으로 봤을 때와 달리 'Science & Technology'(과학기술)이 1위, Music(음악)이 2위. 그 외 Film & Animation, Sports, Entertainment가 각각 평균적으로 50만 뷰 기록. 그 외 카테고리는 비슷비슷."
   ]
  },
  {
   "cell_type": "code",
   "execution_count": 53,
   "metadata": {},
   "outputs": [
    {
     "data": {
      "text/plain": [
       "Text(0, 0.5, 'likes')"
      ]
     },
     "execution_count": 53,
     "metadata": {},
     "output_type": "execute_result"
    },
    {
     "data": {
      "image/png": "[encoded data removed]",
      "text/plain": [
       "<Figure size 432x288 with 1 Axes>"
      ]
     },
     "metadata": {
      "needs_background": "light"
     },
     "output_type": "display_data"
    }
   ],
   "source": [
    "ax = plt.subplots() \n",
    "ax = sns.barplot(x='category_id', y='likes', data=JPvideo) \n",
    "ax.set_title('일본인이 가장 좋아하는 카테고리(평균 좋아요 수 기준)') \n",
    "ax.set_xlabel('category_id') \n",
    "ax.set_ylabel('likes')"
   ]
  },
  {
   "cell_type": "markdown",
   "metadata": {},
   "source": [
    "Music(음악)이 2위인 'Science & Technology'(과학기술) 와 약 3배에 달하는 큰 차이로 1위. 그 외 카테고리는 비슷비슷. 한국 자료와 매우 비슷한 결과지만, 평균 좋아요 수는 한국이 더 많음."
   ]
  },
  {
   "cell_type": "code",
   "execution_count": 56,
   "metadata": {},
   "outputs": [
    {
     "data": {
      "text/plain": [
       "Text(0, 0.5, 'views')"
      ]
     },
     "execution_count": 56,
     "metadata": {},
     "output_type": "execute_result"
    },
    {
     "data": {
      "image/png": "[encoded data removed]",
      "text/plain": [
       "<Figure size 432x288 with 1 Axes>"
      ]
     },
     "metadata": {
      "needs_background": "light"
     },
     "output_type": "display_data"
    }
   ],
   "source": [
    "ax = plt.subplots() \n",
    "ax = sns.barplot(x='category_id', y='views', data=JPvideos) \n",
    "ax.set_title('일본인이 가장 좋아하는 카테고리(평균 조회수 기준)') \n",
    "ax.set_xlabel('category_id') \n",
    "ax.set_ylabel('views')"
   ]
  },
  {
   "cell_type": "markdown",
   "metadata": {},
   "source": [
    "좋아요 기준으로 봤을 때와 달리 'Science & Technology'(과학기술)이 1위, Music(음악)이 2위\n",
    "두 나라의 인기 카테고리 분석 결과가 매우 흡사."
   ]
  }
 ],
 "metadata": {
  "kernelspec": {
   "display_name": "Python 3",
   "language": "python",
   "name": "python3"
  },
  "language_info": {
   "codemirror_mode": {
    "name": "ipython",
    "version": 3
   },
   "file_extension": ".py",
   "mimetype": "text/x-python",
   "name": "python",
   "nbconvert_exporter": "python",
   "pygments_lexer": "ipython3",
   "version": "3.8.3"
  }
 },
 "nbformat": 4,
 "nbformat_minor": 4
}
